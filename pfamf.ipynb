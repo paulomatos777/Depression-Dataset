{
  "nbformat": 4,
  "nbformat_minor": 0,
  "metadata": {
    "colab": {
      "name": "pfamf.ipynb",
      "provenance": [],
      "collapsed_sections": [
        "qJhZJlExXkA9",
        "ZGTx4TkHJyZJ",
        "aRdR3KpEK_-7",
        "FewVwiDuOKHs",
        "YyCHOKpvQ2iy",
        "v6bDPOmbs1sB",
        "GSY339_muv-x",
        "oIYSFPky53OF",
        "XtcnA5UX7V5F",
        "spV2db9DDJP9",
        "G0NZUOCEF-CX",
        "Y2Dxp3_JHLUW"
      ],
      "authorship_tag": "ABX9TyOXzTmF8WBuqmup3SmjadAV",
      "include_colab_link": true
    },
    "kernelspec": {
      "name": "python3",
      "display_name": "Python 3"
    },
    "language_info": {
      "name": "python"
    }
  },
  "cells": [
    {
      "cell_type": "markdown",
      "metadata": {
        "id": "view-in-github",
        "colab_type": "text"
      },
      "source": [
        "<a href=\"https://colab.research.google.com/github/paulomatos777/Depression-Dataset/blob/main/pfamf.ipynb\" target=\"_parent\"><img src=\"https://colab.research.google.com/assets/colab-badge.svg\" alt=\"Open In Colab\"/></a>"
      ]
    },
    {
      "cell_type": "markdown",
      "source": [
        "# Dataset Depressão"
      ],
      "metadata": {
        "id": "mtsu8V_4DfPu"
      }
    },
    {
      "cell_type": "code",
      "source": [
        "#importando as blibiotecas\n",
        "import pandas as pd\n",
        "import numpy as np"
      ],
      "metadata": {
        "id": "Kmcv2fBbDxYh"
      },
      "execution_count": null,
      "outputs": []
    },
    {
      "cell_type": "code",
      "source": [
        "data = pd.read_csv('b_depressed.csv')\n"
      ],
      "metadata": {
        "id": "QzncfZ1kDeOY"
      },
      "execution_count": null,
      "outputs": []
    },
    {
      "cell_type": "markdown",
      "source": [
        "##**Informações e Tratamento de Dados**"
      ],
      "metadata": {
        "id": "2ujFEq_XIQ4P"
      }
    },
    {
      "cell_type": "code",
      "source": [
        "data.head()"
      ],
      "metadata": {
        "colab": {
          "base_uri": "https://localhost:8080/",
          "height": 299
        },
        "id": "xSfnDsEcIfNS",
        "outputId": "74f47440-c31d-4f89-f1a1-aa6103b3e82c"
      },
      "execution_count": null,
      "outputs": [
        {
          "output_type": "execute_result",
          "data": {
            "text/plain": [
              "   Survey_id  Ville_id  sex  Age  Married  Number_children  education_level  \\\n",
              "0        926        91    1   28        1                4               10   \n",
              "1        747        57    1   23        1                3                8   \n",
              "2       1190       115    1   22        1                3                9   \n",
              "3       1065        97    1   27        1                2               10   \n",
              "4        806        42    0   59        0                4               10   \n",
              "\n",
              "   total_members  gained_asset  durable_asset  ...  incoming_salary  \\\n",
              "0              5      28912201       22861940  ...                0   \n",
              "1              5      28912201       22861940  ...                0   \n",
              "2              5      28912201       22861940  ...                0   \n",
              "3              4      52667108       19698904  ...                0   \n",
              "4              6      82606287       17352654  ...                1   \n",
              "\n",
              "   incoming_own_farm  incoming_business  incoming_no_business  \\\n",
              "0                  0                  0                     0   \n",
              "1                  0                  0                     0   \n",
              "2                  0                  0                     0   \n",
              "3                  1                  0                     1   \n",
              "4                  0                  0                     0   \n",
              "\n",
              "   incoming_agricultural  farm_expenses  labor_primary  lasting_investment  \\\n",
              "0               30028818       31363432              0            28411718   \n",
              "1               30028818       31363432              0            28411718   \n",
              "2               30028818       31363432              0            28411718   \n",
              "3               22288055       18751329              0             7781123   \n",
              "4               53384566       20731006              1            20100562   \n",
              "\n",
              "   no_lasting_investmen  depressed  \n",
              "0            28292707.0          0  \n",
              "1            28292707.0          1  \n",
              "2            28292707.0          0  \n",
              "3            69219765.0          0  \n",
              "4            43419447.0          0  \n",
              "\n",
              "[5 rows x 23 columns]"
            ],
            "text/html": [
              "\n",
              "  <div id=\"df-c8d5954a-0609-47d1-ae49-9f334500ac14\">\n",
              "    <div class=\"colab-df-container\">\n",
              "      <div>\n",
              "<style scoped>\n",
              "    .dataframe tbody tr th:only-of-type {\n",
              "        vertical-align: middle;\n",
              "    }\n",
              "\n",
              "    .dataframe tbody tr th {\n",
              "        vertical-align: top;\n",
              "    }\n",
              "\n",
              "    .dataframe thead th {\n",
              "        text-align: right;\n",
              "    }\n",
              "</style>\n",
              "<table border=\"1\" class=\"dataframe\">\n",
              "  <thead>\n",
              "    <tr style=\"text-align: right;\">\n",
              "      <th></th>\n",
              "      <th>Survey_id</th>\n",
              "      <th>Ville_id</th>\n",
              "      <th>sex</th>\n",
              "      <th>Age</th>\n",
              "      <th>Married</th>\n",
              "      <th>Number_children</th>\n",
              "      <th>education_level</th>\n",
              "      <th>total_members</th>\n",
              "      <th>gained_asset</th>\n",
              "      <th>durable_asset</th>\n",
              "      <th>...</th>\n",
              "      <th>incoming_salary</th>\n",
              "      <th>incoming_own_farm</th>\n",
              "      <th>incoming_business</th>\n",
              "      <th>incoming_no_business</th>\n",
              "      <th>incoming_agricultural</th>\n",
              "      <th>farm_expenses</th>\n",
              "      <th>labor_primary</th>\n",
              "      <th>lasting_investment</th>\n",
              "      <th>no_lasting_investmen</th>\n",
              "      <th>depressed</th>\n",
              "    </tr>\n",
              "  </thead>\n",
              "  <tbody>\n",
              "    <tr>\n",
              "      <th>0</th>\n",
              "      <td>926</td>\n",
              "      <td>91</td>\n",
              "      <td>1</td>\n",
              "      <td>28</td>\n",
              "      <td>1</td>\n",
              "      <td>4</td>\n",
              "      <td>10</td>\n",
              "      <td>5</td>\n",
              "      <td>28912201</td>\n",
              "      <td>22861940</td>\n",
              "      <td>...</td>\n",
              "      <td>0</td>\n",
              "      <td>0</td>\n",
              "      <td>0</td>\n",
              "      <td>0</td>\n",
              "      <td>30028818</td>\n",
              "      <td>31363432</td>\n",
              "      <td>0</td>\n",
              "      <td>28411718</td>\n",
              "      <td>28292707.0</td>\n",
              "      <td>0</td>\n",
              "    </tr>\n",
              "    <tr>\n",
              "      <th>1</th>\n",
              "      <td>747</td>\n",
              "      <td>57</td>\n",
              "      <td>1</td>\n",
              "      <td>23</td>\n",
              "      <td>1</td>\n",
              "      <td>3</td>\n",
              "      <td>8</td>\n",
              "      <td>5</td>\n",
              "      <td>28912201</td>\n",
              "      <td>22861940</td>\n",
              "      <td>...</td>\n",
              "      <td>0</td>\n",
              "      <td>0</td>\n",
              "      <td>0</td>\n",
              "      <td>0</td>\n",
              "      <td>30028818</td>\n",
              "      <td>31363432</td>\n",
              "      <td>0</td>\n",
              "      <td>28411718</td>\n",
              "      <td>28292707.0</td>\n",
              "      <td>1</td>\n",
              "    </tr>\n",
              "    <tr>\n",
              "      <th>2</th>\n",
              "      <td>1190</td>\n",
              "      <td>115</td>\n",
              "      <td>1</td>\n",
              "      <td>22</td>\n",
              "      <td>1</td>\n",
              "      <td>3</td>\n",
              "      <td>9</td>\n",
              "      <td>5</td>\n",
              "      <td>28912201</td>\n",
              "      <td>22861940</td>\n",
              "      <td>...</td>\n",
              "      <td>0</td>\n",
              "      <td>0</td>\n",
              "      <td>0</td>\n",
              "      <td>0</td>\n",
              "      <td>30028818</td>\n",
              "      <td>31363432</td>\n",
              "      <td>0</td>\n",
              "      <td>28411718</td>\n",
              "      <td>28292707.0</td>\n",
              "      <td>0</td>\n",
              "    </tr>\n",
              "    <tr>\n",
              "      <th>3</th>\n",
              "      <td>1065</td>\n",
              "      <td>97</td>\n",
              "      <td>1</td>\n",
              "      <td>27</td>\n",
              "      <td>1</td>\n",
              "      <td>2</td>\n",
              "      <td>10</td>\n",
              "      <td>4</td>\n",
              "      <td>52667108</td>\n",
              "      <td>19698904</td>\n",
              "      <td>...</td>\n",
              "      <td>0</td>\n",
              "      <td>1</td>\n",
              "      <td>0</td>\n",
              "      <td>1</td>\n",
              "      <td>22288055</td>\n",
              "      <td>18751329</td>\n",
              "      <td>0</td>\n",
              "      <td>7781123</td>\n",
              "      <td>69219765.0</td>\n",
              "      <td>0</td>\n",
              "    </tr>\n",
              "    <tr>\n",
              "      <th>4</th>\n",
              "      <td>806</td>\n",
              "      <td>42</td>\n",
              "      <td>0</td>\n",
              "      <td>59</td>\n",
              "      <td>0</td>\n",
              "      <td>4</td>\n",
              "      <td>10</td>\n",
              "      <td>6</td>\n",
              "      <td>82606287</td>\n",
              "      <td>17352654</td>\n",
              "      <td>...</td>\n",
              "      <td>1</td>\n",
              "      <td>0</td>\n",
              "      <td>0</td>\n",
              "      <td>0</td>\n",
              "      <td>53384566</td>\n",
              "      <td>20731006</td>\n",
              "      <td>1</td>\n",
              "      <td>20100562</td>\n",
              "      <td>43419447.0</td>\n",
              "      <td>0</td>\n",
              "    </tr>\n",
              "  </tbody>\n",
              "</table>\n",
              "<p>5 rows × 23 columns</p>\n",
              "</div>\n",
              "      <button class=\"colab-df-convert\" onclick=\"convertToInteractive('df-c8d5954a-0609-47d1-ae49-9f334500ac14')\"\n",
              "              title=\"Convert this dataframe to an interactive table.\"\n",
              "              style=\"display:none;\">\n",
              "        \n",
              "  <svg xmlns=\"http://www.w3.org/2000/svg\" height=\"24px\"viewBox=\"0 0 24 24\"\n",
              "       width=\"24px\">\n",
              "    <path d=\"M0 0h24v24H0V0z\" fill=\"none\"/>\n",
              "    <path d=\"M18.56 5.44l.94 2.06.94-2.06 2.06-.94-2.06-.94-.94-2.06-.94 2.06-2.06.94zm-11 1L8.5 8.5l.94-2.06 2.06-.94-2.06-.94L8.5 2.5l-.94 2.06-2.06.94zm10 10l.94 2.06.94-2.06 2.06-.94-2.06-.94-.94-2.06-.94 2.06-2.06.94z\"/><path d=\"M17.41 7.96l-1.37-1.37c-.4-.4-.92-.59-1.43-.59-.52 0-1.04.2-1.43.59L10.3 9.45l-7.72 7.72c-.78.78-.78 2.05 0 2.83L4 21.41c.39.39.9.59 1.41.59.51 0 1.02-.2 1.41-.59l7.78-7.78 2.81-2.81c.8-.78.8-2.07 0-2.86zM5.41 20L4 18.59l7.72-7.72 1.47 1.35L5.41 20z\"/>\n",
              "  </svg>\n",
              "      </button>\n",
              "      \n",
              "  <style>\n",
              "    .colab-df-container {\n",
              "      display:flex;\n",
              "      flex-wrap:wrap;\n",
              "      gap: 12px;\n",
              "    }\n",
              "\n",
              "    .colab-df-convert {\n",
              "      background-color: #E8F0FE;\n",
              "      border: none;\n",
              "      border-radius: 50%;\n",
              "      cursor: pointer;\n",
              "      display: none;\n",
              "      fill: #1967D2;\n",
              "      height: 32px;\n",
              "      padding: 0 0 0 0;\n",
              "      width: 32px;\n",
              "    }\n",
              "\n",
              "    .colab-df-convert:hover {\n",
              "      background-color: #E2EBFA;\n",
              "      box-shadow: 0px 1px 2px rgba(60, 64, 67, 0.3), 0px 1px 3px 1px rgba(60, 64, 67, 0.15);\n",
              "      fill: #174EA6;\n",
              "    }\n",
              "\n",
              "    [theme=dark] .colab-df-convert {\n",
              "      background-color: #3B4455;\n",
              "      fill: #D2E3FC;\n",
              "    }\n",
              "\n",
              "    [theme=dark] .colab-df-convert:hover {\n",
              "      background-color: #434B5C;\n",
              "      box-shadow: 0px 1px 3px 1px rgba(0, 0, 0, 0.15);\n",
              "      filter: drop-shadow(0px 1px 2px rgba(0, 0, 0, 0.3));\n",
              "      fill: #FFFFFF;\n",
              "    }\n",
              "  </style>\n",
              "\n",
              "      <script>\n",
              "        const buttonEl =\n",
              "          document.querySelector('#df-c8d5954a-0609-47d1-ae49-9f334500ac14 button.colab-df-convert');\n",
              "        buttonEl.style.display =\n",
              "          google.colab.kernel.accessAllowed ? 'block' : 'none';\n",
              "\n",
              "        async function convertToInteractive(key) {\n",
              "          const element = document.querySelector('#df-c8d5954a-0609-47d1-ae49-9f334500ac14');\n",
              "          const dataTable =\n",
              "            await google.colab.kernel.invokeFunction('convertToInteractive',\n",
              "                                                     [key], {});\n",
              "          if (!dataTable) return;\n",
              "\n",
              "          const docLinkHtml = 'Like what you see? Visit the ' +\n",
              "            '<a target=\"_blank\" href=https://colab.research.google.com/notebooks/data_table.ipynb>data table notebook</a>'\n",
              "            + ' to learn more about interactive tables.';\n",
              "          element.innerHTML = '';\n",
              "          dataTable['output_type'] = 'display_data';\n",
              "          await google.colab.output.renderOutput(dataTable, element);\n",
              "          const docLink = document.createElement('div');\n",
              "          docLink.innerHTML = docLinkHtml;\n",
              "          element.appendChild(docLink);\n",
              "        }\n",
              "      </script>\n",
              "    </div>\n",
              "  </div>\n",
              "  "
            ]
          },
          "metadata": {},
          "execution_count": 6
        }
      ]
    },
    {
      "cell_type": "code",
      "source": [
        "data.info()"
      ],
      "metadata": {
        "colab": {
          "base_uri": "https://localhost:8080/"
        },
        "id": "MrFkUpLOIlI3",
        "outputId": "79c0bffc-e258-41b5-c635-de5eaa1ebac1"
      },
      "execution_count": null,
      "outputs": [
        {
          "output_type": "stream",
          "name": "stdout",
          "text": [
            "<class 'pandas.core.frame.DataFrame'>\n",
            "RangeIndex: 1429 entries, 0 to 1428\n",
            "Data columns (total 23 columns):\n",
            " #   Column                 Non-Null Count  Dtype  \n",
            "---  ------                 --------------  -----  \n",
            " 0   Survey_id              1429 non-null   int64  \n",
            " 1   Ville_id               1429 non-null   int64  \n",
            " 2   sex                    1429 non-null   int64  \n",
            " 3   Age                    1429 non-null   int64  \n",
            " 4   Married                1429 non-null   int64  \n",
            " 5   Number_children        1429 non-null   int64  \n",
            " 6   education_level        1429 non-null   int64  \n",
            " 7   total_members          1429 non-null   int64  \n",
            " 8   gained_asset           1429 non-null   int64  \n",
            " 9   durable_asset          1429 non-null   int64  \n",
            " 10  save_asset             1429 non-null   int64  \n",
            " 11  living_expenses        1429 non-null   int64  \n",
            " 12  other_expenses         1429 non-null   int64  \n",
            " 13  incoming_salary        1429 non-null   int64  \n",
            " 14  incoming_own_farm      1429 non-null   int64  \n",
            " 15  incoming_business      1429 non-null   int64  \n",
            " 16  incoming_no_business   1429 non-null   int64  \n",
            " 17  incoming_agricultural  1429 non-null   int64  \n",
            " 18  farm_expenses          1429 non-null   int64  \n",
            " 19  labor_primary          1429 non-null   int64  \n",
            " 20  lasting_investment     1429 non-null   int64  \n",
            " 21  no_lasting_investmen   1409 non-null   float64\n",
            " 22  depressed              1429 non-null   int64  \n",
            "dtypes: float64(1), int64(22)\n",
            "memory usage: 256.9 KB\n"
          ]
        }
      ]
    },
    {
      "cell_type": "code",
      "source": [
        "data.drop(['total_members', 'Survey_id', 'Ville_id', 'gained_asset','durable_asset', 'save_asset', 'living_expenses','other_expenses', 'incoming_salary','incoming_own_farm', 'incoming_business', 'incoming_no_business','incoming_agricultural', 'farm_expenses','labor_primary', 'lasting_investment', 'no_lasting_investmen'   ], axis=1, inplace=True)\n",
        "data.head()"
      ],
      "metadata": {
        "colab": {
          "base_uri": "https://localhost:8080/",
          "height": 206
        },
        "id": "aPxhqkObIvI_",
        "outputId": "918545f8-bf98-4740-a570-c1330ad18c76"
      },
      "execution_count": null,
      "outputs": [
        {
          "output_type": "execute_result",
          "data": {
            "text/plain": [
              "   sex  Age  Married  Number_children  education_level  depressed\n",
              "0    1   28        1                4               10          0\n",
              "1    1   23        1                3                8          1\n",
              "2    1   22        1                3                9          0\n",
              "3    1   27        1                2               10          0\n",
              "4    0   59        0                4               10          0"
            ],
            "text/html": [
              "\n",
              "  <div id=\"df-c41a9f6c-7541-44f4-8688-9f8b2c77190c\">\n",
              "    <div class=\"colab-df-container\">\n",
              "      <div>\n",
              "<style scoped>\n",
              "    .dataframe tbody tr th:only-of-type {\n",
              "        vertical-align: middle;\n",
              "    }\n",
              "\n",
              "    .dataframe tbody tr th {\n",
              "        vertical-align: top;\n",
              "    }\n",
              "\n",
              "    .dataframe thead th {\n",
              "        text-align: right;\n",
              "    }\n",
              "</style>\n",
              "<table border=\"1\" class=\"dataframe\">\n",
              "  <thead>\n",
              "    <tr style=\"text-align: right;\">\n",
              "      <th></th>\n",
              "      <th>sex</th>\n",
              "      <th>Age</th>\n",
              "      <th>Married</th>\n",
              "      <th>Number_children</th>\n",
              "      <th>education_level</th>\n",
              "      <th>depressed</th>\n",
              "    </tr>\n",
              "  </thead>\n",
              "  <tbody>\n",
              "    <tr>\n",
              "      <th>0</th>\n",
              "      <td>1</td>\n",
              "      <td>28</td>\n",
              "      <td>1</td>\n",
              "      <td>4</td>\n",
              "      <td>10</td>\n",
              "      <td>0</td>\n",
              "    </tr>\n",
              "    <tr>\n",
              "      <th>1</th>\n",
              "      <td>1</td>\n",
              "      <td>23</td>\n",
              "      <td>1</td>\n",
              "      <td>3</td>\n",
              "      <td>8</td>\n",
              "      <td>1</td>\n",
              "    </tr>\n",
              "    <tr>\n",
              "      <th>2</th>\n",
              "      <td>1</td>\n",
              "      <td>22</td>\n",
              "      <td>1</td>\n",
              "      <td>3</td>\n",
              "      <td>9</td>\n",
              "      <td>0</td>\n",
              "    </tr>\n",
              "    <tr>\n",
              "      <th>3</th>\n",
              "      <td>1</td>\n",
              "      <td>27</td>\n",
              "      <td>1</td>\n",
              "      <td>2</td>\n",
              "      <td>10</td>\n",
              "      <td>0</td>\n",
              "    </tr>\n",
              "    <tr>\n",
              "      <th>4</th>\n",
              "      <td>0</td>\n",
              "      <td>59</td>\n",
              "      <td>0</td>\n",
              "      <td>4</td>\n",
              "      <td>10</td>\n",
              "      <td>0</td>\n",
              "    </tr>\n",
              "  </tbody>\n",
              "</table>\n",
              "</div>\n",
              "      <button class=\"colab-df-convert\" onclick=\"convertToInteractive('df-c41a9f6c-7541-44f4-8688-9f8b2c77190c')\"\n",
              "              title=\"Convert this dataframe to an interactive table.\"\n",
              "              style=\"display:none;\">\n",
              "        \n",
              "  <svg xmlns=\"http://www.w3.org/2000/svg\" height=\"24px\"viewBox=\"0 0 24 24\"\n",
              "       width=\"24px\">\n",
              "    <path d=\"M0 0h24v24H0V0z\" fill=\"none\"/>\n",
              "    <path d=\"M18.56 5.44l.94 2.06.94-2.06 2.06-.94-2.06-.94-.94-2.06-.94 2.06-2.06.94zm-11 1L8.5 8.5l.94-2.06 2.06-.94-2.06-.94L8.5 2.5l-.94 2.06-2.06.94zm10 10l.94 2.06.94-2.06 2.06-.94-2.06-.94-.94-2.06-.94 2.06-2.06.94z\"/><path d=\"M17.41 7.96l-1.37-1.37c-.4-.4-.92-.59-1.43-.59-.52 0-1.04.2-1.43.59L10.3 9.45l-7.72 7.72c-.78.78-.78 2.05 0 2.83L4 21.41c.39.39.9.59 1.41.59.51 0 1.02-.2 1.41-.59l7.78-7.78 2.81-2.81c.8-.78.8-2.07 0-2.86zM5.41 20L4 18.59l7.72-7.72 1.47 1.35L5.41 20z\"/>\n",
              "  </svg>\n",
              "      </button>\n",
              "      \n",
              "  <style>\n",
              "    .colab-df-container {\n",
              "      display:flex;\n",
              "      flex-wrap:wrap;\n",
              "      gap: 12px;\n",
              "    }\n",
              "\n",
              "    .colab-df-convert {\n",
              "      background-color: #E8F0FE;\n",
              "      border: none;\n",
              "      border-radius: 50%;\n",
              "      cursor: pointer;\n",
              "      display: none;\n",
              "      fill: #1967D2;\n",
              "      height: 32px;\n",
              "      padding: 0 0 0 0;\n",
              "      width: 32px;\n",
              "    }\n",
              "\n",
              "    .colab-df-convert:hover {\n",
              "      background-color: #E2EBFA;\n",
              "      box-shadow: 0px 1px 2px rgba(60, 64, 67, 0.3), 0px 1px 3px 1px rgba(60, 64, 67, 0.15);\n",
              "      fill: #174EA6;\n",
              "    }\n",
              "\n",
              "    [theme=dark] .colab-df-convert {\n",
              "      background-color: #3B4455;\n",
              "      fill: #D2E3FC;\n",
              "    }\n",
              "\n",
              "    [theme=dark] .colab-df-convert:hover {\n",
              "      background-color: #434B5C;\n",
              "      box-shadow: 0px 1px 3px 1px rgba(0, 0, 0, 0.15);\n",
              "      filter: drop-shadow(0px 1px 2px rgba(0, 0, 0, 0.3));\n",
              "      fill: #FFFFFF;\n",
              "    }\n",
              "  </style>\n",
              "\n",
              "      <script>\n",
              "        const buttonEl =\n",
              "          document.querySelector('#df-c41a9f6c-7541-44f4-8688-9f8b2c77190c button.colab-df-convert');\n",
              "        buttonEl.style.display =\n",
              "          google.colab.kernel.accessAllowed ? 'block' : 'none';\n",
              "\n",
              "        async function convertToInteractive(key) {\n",
              "          const element = document.querySelector('#df-c41a9f6c-7541-44f4-8688-9f8b2c77190c');\n",
              "          const dataTable =\n",
              "            await google.colab.kernel.invokeFunction('convertToInteractive',\n",
              "                                                     [key], {});\n",
              "          if (!dataTable) return;\n",
              "\n",
              "          const docLinkHtml = 'Like what you see? Visit the ' +\n",
              "            '<a target=\"_blank\" href=https://colab.research.google.com/notebooks/data_table.ipynb>data table notebook</a>'\n",
              "            + ' to learn more about interactive tables.';\n",
              "          element.innerHTML = '';\n",
              "          dataTable['output_type'] = 'display_data';\n",
              "          await google.colab.output.renderOutput(dataTable, element);\n",
              "          const docLink = document.createElement('div');\n",
              "          docLink.innerHTML = docLinkHtml;\n",
              "          element.appendChild(docLink);\n",
              "        }\n",
              "      </script>\n",
              "    </div>\n",
              "  </div>\n",
              "  "
            ]
          },
          "metadata": {},
          "execution_count": 8
        }
      ]
    },
    {
      "cell_type": "code",
      "source": [
        "data.describe()"
      ],
      "metadata": {
        "colab": {
          "base_uri": "https://localhost:8080/",
          "height": 300
        },
        "id": "mzSa3zRiJ1jJ",
        "outputId": "0f8b345f-c208-4668-bf0c-871a554bf982"
      },
      "execution_count": null,
      "outputs": [
        {
          "output_type": "execute_result",
          "data": {
            "text/plain": [
              "               sex          Age      Married  Number_children  \\\n",
              "count  1429.000000  1429.000000  1429.000000      1429.000000   \n",
              "mean      0.918125    34.777467     0.772568         2.883135   \n",
              "std       0.274271    13.986219     0.419320         1.874472   \n",
              "min       0.000000    17.000000     0.000000         0.000000   \n",
              "25%       1.000000    25.000000     1.000000         2.000000   \n",
              "50%       1.000000    30.000000     1.000000         3.000000   \n",
              "75%       1.000000    42.000000     1.000000         4.000000   \n",
              "max       1.000000    91.000000     1.000000        11.000000   \n",
              "\n",
              "       education_level    depressed  \n",
              "count      1429.000000  1429.000000  \n",
              "mean          8.687194     0.166550  \n",
              "std           2.923532     0.372704  \n",
              "min           1.000000     0.000000  \n",
              "25%           8.000000     0.000000  \n",
              "50%           9.000000     0.000000  \n",
              "75%          10.000000     0.000000  \n",
              "max          19.000000     1.000000  "
            ],
            "text/html": [
              "\n",
              "  <div id=\"df-7f3b253d-9385-42fb-b445-7f0fcf7a1be7\">\n",
              "    <div class=\"colab-df-container\">\n",
              "      <div>\n",
              "<style scoped>\n",
              "    .dataframe tbody tr th:only-of-type {\n",
              "        vertical-align: middle;\n",
              "    }\n",
              "\n",
              "    .dataframe tbody tr th {\n",
              "        vertical-align: top;\n",
              "    }\n",
              "\n",
              "    .dataframe thead th {\n",
              "        text-align: right;\n",
              "    }\n",
              "</style>\n",
              "<table border=\"1\" class=\"dataframe\">\n",
              "  <thead>\n",
              "    <tr style=\"text-align: right;\">\n",
              "      <th></th>\n",
              "      <th>sex</th>\n",
              "      <th>Age</th>\n",
              "      <th>Married</th>\n",
              "      <th>Number_children</th>\n",
              "      <th>education_level</th>\n",
              "      <th>depressed</th>\n",
              "    </tr>\n",
              "  </thead>\n",
              "  <tbody>\n",
              "    <tr>\n",
              "      <th>count</th>\n",
              "      <td>1429.000000</td>\n",
              "      <td>1429.000000</td>\n",
              "      <td>1429.000000</td>\n",
              "      <td>1429.000000</td>\n",
              "      <td>1429.000000</td>\n",
              "      <td>1429.000000</td>\n",
              "    </tr>\n",
              "    <tr>\n",
              "      <th>mean</th>\n",
              "      <td>0.918125</td>\n",
              "      <td>34.777467</td>\n",
              "      <td>0.772568</td>\n",
              "      <td>2.883135</td>\n",
              "      <td>8.687194</td>\n",
              "      <td>0.166550</td>\n",
              "    </tr>\n",
              "    <tr>\n",
              "      <th>std</th>\n",
              "      <td>0.274271</td>\n",
              "      <td>13.986219</td>\n",
              "      <td>0.419320</td>\n",
              "      <td>1.874472</td>\n",
              "      <td>2.923532</td>\n",
              "      <td>0.372704</td>\n",
              "    </tr>\n",
              "    <tr>\n",
              "      <th>min</th>\n",
              "      <td>0.000000</td>\n",
              "      <td>17.000000</td>\n",
              "      <td>0.000000</td>\n",
              "      <td>0.000000</td>\n",
              "      <td>1.000000</td>\n",
              "      <td>0.000000</td>\n",
              "    </tr>\n",
              "    <tr>\n",
              "      <th>25%</th>\n",
              "      <td>1.000000</td>\n",
              "      <td>25.000000</td>\n",
              "      <td>1.000000</td>\n",
              "      <td>2.000000</td>\n",
              "      <td>8.000000</td>\n",
              "      <td>0.000000</td>\n",
              "    </tr>\n",
              "    <tr>\n",
              "      <th>50%</th>\n",
              "      <td>1.000000</td>\n",
              "      <td>30.000000</td>\n",
              "      <td>1.000000</td>\n",
              "      <td>3.000000</td>\n",
              "      <td>9.000000</td>\n",
              "      <td>0.000000</td>\n",
              "    </tr>\n",
              "    <tr>\n",
              "      <th>75%</th>\n",
              "      <td>1.000000</td>\n",
              "      <td>42.000000</td>\n",
              "      <td>1.000000</td>\n",
              "      <td>4.000000</td>\n",
              "      <td>10.000000</td>\n",
              "      <td>0.000000</td>\n",
              "    </tr>\n",
              "    <tr>\n",
              "      <th>max</th>\n",
              "      <td>1.000000</td>\n",
              "      <td>91.000000</td>\n",
              "      <td>1.000000</td>\n",
              "      <td>11.000000</td>\n",
              "      <td>19.000000</td>\n",
              "      <td>1.000000</td>\n",
              "    </tr>\n",
              "  </tbody>\n",
              "</table>\n",
              "</div>\n",
              "      <button class=\"colab-df-convert\" onclick=\"convertToInteractive('df-7f3b253d-9385-42fb-b445-7f0fcf7a1be7')\"\n",
              "              title=\"Convert this dataframe to an interactive table.\"\n",
              "              style=\"display:none;\">\n",
              "        \n",
              "  <svg xmlns=\"http://www.w3.org/2000/svg\" height=\"24px\"viewBox=\"0 0 24 24\"\n",
              "       width=\"24px\">\n",
              "    <path d=\"M0 0h24v24H0V0z\" fill=\"none\"/>\n",
              "    <path d=\"M18.56 5.44l.94 2.06.94-2.06 2.06-.94-2.06-.94-.94-2.06-.94 2.06-2.06.94zm-11 1L8.5 8.5l.94-2.06 2.06-.94-2.06-.94L8.5 2.5l-.94 2.06-2.06.94zm10 10l.94 2.06.94-2.06 2.06-.94-2.06-.94-.94-2.06-.94 2.06-2.06.94z\"/><path d=\"M17.41 7.96l-1.37-1.37c-.4-.4-.92-.59-1.43-.59-.52 0-1.04.2-1.43.59L10.3 9.45l-7.72 7.72c-.78.78-.78 2.05 0 2.83L4 21.41c.39.39.9.59 1.41.59.51 0 1.02-.2 1.41-.59l7.78-7.78 2.81-2.81c.8-.78.8-2.07 0-2.86zM5.41 20L4 18.59l7.72-7.72 1.47 1.35L5.41 20z\"/>\n",
              "  </svg>\n",
              "      </button>\n",
              "      \n",
              "  <style>\n",
              "    .colab-df-container {\n",
              "      display:flex;\n",
              "      flex-wrap:wrap;\n",
              "      gap: 12px;\n",
              "    }\n",
              "\n",
              "    .colab-df-convert {\n",
              "      background-color: #E8F0FE;\n",
              "      border: none;\n",
              "      border-radius: 50%;\n",
              "      cursor: pointer;\n",
              "      display: none;\n",
              "      fill: #1967D2;\n",
              "      height: 32px;\n",
              "      padding: 0 0 0 0;\n",
              "      width: 32px;\n",
              "    }\n",
              "\n",
              "    .colab-df-convert:hover {\n",
              "      background-color: #E2EBFA;\n",
              "      box-shadow: 0px 1px 2px rgba(60, 64, 67, 0.3), 0px 1px 3px 1px rgba(60, 64, 67, 0.15);\n",
              "      fill: #174EA6;\n",
              "    }\n",
              "\n",
              "    [theme=dark] .colab-df-convert {\n",
              "      background-color: #3B4455;\n",
              "      fill: #D2E3FC;\n",
              "    }\n",
              "\n",
              "    [theme=dark] .colab-df-convert:hover {\n",
              "      background-color: #434B5C;\n",
              "      box-shadow: 0px 1px 3px 1px rgba(0, 0, 0, 0.15);\n",
              "      filter: drop-shadow(0px 1px 2px rgba(0, 0, 0, 0.3));\n",
              "      fill: #FFFFFF;\n",
              "    }\n",
              "  </style>\n",
              "\n",
              "      <script>\n",
              "        const buttonEl =\n",
              "          document.querySelector('#df-7f3b253d-9385-42fb-b445-7f0fcf7a1be7 button.colab-df-convert');\n",
              "        buttonEl.style.display =\n",
              "          google.colab.kernel.accessAllowed ? 'block' : 'none';\n",
              "\n",
              "        async function convertToInteractive(key) {\n",
              "          const element = document.querySelector('#df-7f3b253d-9385-42fb-b445-7f0fcf7a1be7');\n",
              "          const dataTable =\n",
              "            await google.colab.kernel.invokeFunction('convertToInteractive',\n",
              "                                                     [key], {});\n",
              "          if (!dataTable) return;\n",
              "\n",
              "          const docLinkHtml = 'Like what you see? Visit the ' +\n",
              "            '<a target=\"_blank\" href=https://colab.research.google.com/notebooks/data_table.ipynb>data table notebook</a>'\n",
              "            + ' to learn more about interactive tables.';\n",
              "          element.innerHTML = '';\n",
              "          dataTable['output_type'] = 'display_data';\n",
              "          await google.colab.output.renderOutput(dataTable, element);\n",
              "          const docLink = document.createElement('div');\n",
              "          docLink.innerHTML = docLinkHtml;\n",
              "          element.appendChild(docLink);\n",
              "        }\n",
              "      </script>\n",
              "    </div>\n",
              "  </div>\n",
              "  "
            ]
          },
          "metadata": {},
          "execution_count": 9
        }
      ]
    },
    {
      "cell_type": "code",
      "source": [
        "data.shape"
      ],
      "metadata": {
        "colab": {
          "base_uri": "https://localhost:8080/"
        },
        "id": "TTOYEXUb6D68",
        "outputId": "ff179927-3af0-441e-d36a-51585e88f6d6"
      },
      "execution_count": null,
      "outputs": [
        {
          "output_type": "execute_result",
          "data": {
            "text/plain": [
              "(1429, 6)"
            ]
          },
          "metadata": {},
          "execution_count": 10
        }
      ]
    },
    {
      "cell_type": "code",
      "source": [
        "data.info"
      ],
      "metadata": {
        "colab": {
          "base_uri": "https://localhost:8080/"
        },
        "id": "2j-THEn27n5V",
        "outputId": "76bccdf6-c065-497e-b7dc-4c7a86b0433e"
      },
      "execution_count": null,
      "outputs": [
        {
          "output_type": "execute_result",
          "data": {
            "text/plain": [
              "<bound method DataFrame.info of       sex  Age  Married  Number_children  education_level  depressed\n",
              "0       1   28        1                4               10          0\n",
              "1       1   23        1                3                8          1\n",
              "2       1   22        1                3                9          0\n",
              "3       1   27        1                2               10          0\n",
              "4       0   59        0                4               10          0\n",
              "...   ...  ...      ...              ...              ...        ...\n",
              "1424    1   25        1                1                7          0\n",
              "1425    1   28        1                4               10          0\n",
              "1426    1   66        0                0                1          1\n",
              "1427    1   51        1                1               12          0\n",
              "1428    1   33        0                4                8          0\n",
              "\n",
              "[1429 rows x 6 columns]>"
            ]
          },
          "metadata": {},
          "execution_count": 11
        }
      ]
    },
    {
      "cell_type": "markdown",
      "source": [
        "##**Estatisticas**"
      ],
      "metadata": {
        "id": "qJhZJlExXkA9"
      }
    },
    {
      "cell_type": "markdown",
      "source": [
        "**Qual a média das idades das pessoas entrevistadas ?**"
      ],
      "metadata": {
        "id": "l19-ql_Yrfli"
      }
    },
    {
      "cell_type": "code",
      "source": [
        "soma = sum(data['Age'])/len(data)\n",
        "print('A Media das idades de todas as pessoas entrevistadas é de ' + str(round(soma)) + ' anos')"
      ],
      "metadata": {
        "colab": {
          "base_uri": "https://localhost:8080/"
        },
        "id": "JT0vOoYArsTT",
        "outputId": "9de87d7c-f31b-4ee5-e450-8e44c248cb81"
      },
      "execution_count": null,
      "outputs": [
        {
          "output_type": "stream",
          "name": "stdout",
          "text": [
            "A Media das idades de todas as pessoas entrevistadas é de 35 anos\n"
          ]
        }
      ]
    },
    {
      "cell_type": "markdown",
      "source": [
        "**Quantidade de filhos media**"
      ],
      "metadata": {
        "id": "ukL89Nl8X7LV"
      }
    },
    {
      "cell_type": "code",
      "source": [
        "soma = sum(data['Number_children'])/len(data)\n",
        "print('A Media de filhos é ' + str(round(soma)) + ' por casal')"
      ],
      "metadata": {
        "colab": {
          "base_uri": "https://localhost:8080/"
        },
        "id": "dhHjuKA6YCzj",
        "outputId": "d14596c5-1ca1-4be1-b8db-6985c6015882"
      },
      "execution_count": null,
      "outputs": [
        {
          "output_type": "stream",
          "name": "stdout",
          "text": [
            "A Media de filhos é 3 por casal\n"
          ]
        }
      ]
    },
    {
      "cell_type": "markdown",
      "source": [
        "**Nivel de Escolaridade ou Educação**"
      ],
      "metadata": {
        "id": "-rF8N9WkYRsk"
      }
    },
    {
      "cell_type": "code",
      "source": [
        "soma = sum(data['education_level'])/len(data)\n",
        "print('A Media do nivel de escolaridade é ' + str(round(soma)) + ' dos participantes do dataset')"
      ],
      "metadata": {
        "colab": {
          "base_uri": "https://localhost:8080/"
        },
        "id": "rXBy0GTAYXQ-",
        "outputId": "52860018-7e16-41b3-aefa-f2f289d13466"
      },
      "execution_count": null,
      "outputs": [
        {
          "output_type": "stream",
          "name": "stdout",
          "text": [
            "A Media do nivel de escolaridade é 9 dos participantes do dataset\n"
          ]
        }
      ]
    },
    {
      "cell_type": "markdown",
      "source": [
        "##**Probabilidade Simples**"
      ],
      "metadata": {
        "id": "ZGTx4TkHJyZJ"
      }
    },
    {
      "cell_type": "markdown",
      "source": [
        "Qual a probabalidade de ser mulher ?"
      ],
      "metadata": {
        "id": "GQZd05_SoX27"
      }
    },
    {
      "cell_type": "code",
      "source": [
        "Woman = len(data[data['sex'] == 0])  \n",
        "probWoman = Woman / len(data)\n",
        "print('A probabilidade de ser mulher é de:' + str(round(probWoman*100, 2)) + '%')"
      ],
      "metadata": {
        "colab": {
          "base_uri": "https://localhost:8080/"
        },
        "id": "1w-zpuJ9oVxz",
        "outputId": "078455db-7785-4d28-8d9f-4c34a5b941a5"
      },
      "execution_count": null,
      "outputs": [
        {
          "output_type": "stream",
          "name": "stdout",
          "text": [
            "A probabilidade de ser mulher é de:8.19%\n"
          ]
        }
      ]
    },
    {
      "cell_type": "markdown",
      "source": [
        "Qual a probabalidade de ser homem ?"
      ],
      "metadata": {
        "id": "eiMvQke3qv1s"
      }
    },
    {
      "cell_type": "code",
      "source": [
        "Man = len(data[(data['sex'] == 1)])\n",
        "probMan = Man/ len(data)\n",
        "print(\"a probabilidade de ser homem :\",str(round(probMan*100, 4)) + '%') "
      ],
      "metadata": {
        "colab": {
          "base_uri": "https://localhost:8080/"
        },
        "id": "Ceoaamuzxcka",
        "outputId": "1bd59b3a-2c8a-4770-8f76-df83bc6c34f9"
      },
      "execution_count": null,
      "outputs": [
        {
          "output_type": "stream",
          "name": "stdout",
          "text": [
            "a probabilidade de ser homem : 91.8125%\n"
          ]
        }
      ]
    },
    {
      "cell_type": "markdown",
      "source": [
        "Probabilidade de ter um Conjugê"
      ],
      "metadata": {
        "id": "pylq0rQ-7xbQ"
      }
    },
    {
      "cell_type": "code",
      "source": [
        "Married = len(data[(data['Married'] > 0)]) \n",
        "probMarried = Married/len(data)\n",
        "print('A probabilidade de ter um conjuge: ' + str(round(probMarried*100, 4)) + '%')"
      ],
      "metadata": {
        "colab": {
          "base_uri": "https://localhost:8080/"
        },
        "id": "bfrb6S257vpu",
        "outputId": "623f2e5b-5381-4ec3-a9e6-ae778baebd56"
      },
      "execution_count": null,
      "outputs": [
        {
          "output_type": "stream",
          "name": "stdout",
          "text": [
            "A probabilidade de ter um conjuge: 77.2568%\n"
          ]
        }
      ]
    },
    {
      "cell_type": "markdown",
      "source": [
        "**Probabilidade de ter depressão**"
      ],
      "metadata": {
        "id": "nt9kfjEn9EQ_"
      }
    },
    {
      "cell_type": "code",
      "source": [
        "Depressed = len(data[(data['depressed'] > 0)]) \n",
        "Depressed = Depressed/len(data)\n",
        "print('A probabilidade de ter depressão: ' + str(round(Depressed*100, 4)) + '%')"
      ],
      "metadata": {
        "colab": {
          "base_uri": "https://localhost:8080/"
        },
        "id": "O8pf-WAS8xsg",
        "outputId": "c21ef66a-7b65-4b9f-fb3b-7eabaf0c00d4"
      },
      "execution_count": null,
      "outputs": [
        {
          "output_type": "stream",
          "name": "stdout",
          "text": [
            "A probabilidade de ter depressão: 16.655%\n"
          ]
        }
      ]
    },
    {
      "cell_type": "markdown",
      "source": [
        "##**Probabilidade da Intersecção**"
      ],
      "metadata": {
        "id": "aRdR3KpEK_-7"
      }
    },
    {
      "cell_type": "markdown",
      "source": [
        "**Probabilidade de ser Conjuge e ter Depressão**"
      ],
      "metadata": {
        "id": "WW8ue4DvmKwZ"
      }
    },
    {
      "cell_type": "code",
      "source": [
        "MarriedDepressed = len(data[(data['Married'] > 0)  & (data['depressed'] >0) ])\n",
        "probMarriedDepressed = MarriedDepressed/ len(data)\n",
        "print (\" A probabilidade de ser casado(a) e ter depressão é\", str(round(probMarriedDepressed*100, 4)) + '%')\n"
      ],
      "metadata": {
        "colab": {
          "base_uri": "https://localhost:8080/"
        },
        "id": "lpFwSPH5mRoY",
        "outputId": "43fb32b1-963e-4608-bb32-db381a1977ab"
      },
      "execution_count": null,
      "outputs": [
        {
          "output_type": "stream",
          "name": "stdout",
          "text": [
            " A probabilidade de ser casado(a) e ter depressão é 11.8964%\n"
          ]
        }
      ]
    },
    {
      "cell_type": "markdown",
      "source": [
        "**Probabilidade de ser uma Mulher Casada**"
      ],
      "metadata": {
        "id": "IynykEhK0yqF"
      }
    },
    {
      "cell_type": "code",
      "source": [
        "WomanMarried =  len(data[(data['sex'] == 0) & (data['Married'] >0)])\n",
        "probWomanMarried = WomanMarried/ len(data)\n",
        "print (\" A probabilidade de ser uma mulher e ser casada\", str(round(probWomanMarried*100, 4)) + '%')"
      ],
      "metadata": {
        "colab": {
          "base_uri": "https://localhost:8080/"
        },
        "id": "aQaisFIUqULz",
        "outputId": "aaac0849-8546-4922-9d60-68f5d1bcd8c4"
      },
      "execution_count": null,
      "outputs": [
        {
          "output_type": "stream",
          "name": "stdout",
          "text": [
            " A probabilidade de ser uma mulher e ser casada 3.0791%\n"
          ]
        }
      ]
    },
    {
      "cell_type": "markdown",
      "source": [
        "**Probabilidade de ser um homem casado**"
      ],
      "metadata": {
        "id": "js2ORtit4eQu"
      }
    },
    {
      "cell_type": "code",
      "source": [
        "ManMarried =  len(data[(data['sex'] == 1) & (data['Married'] >0)])\n",
        "probManMarried = ManMarried/ len(data)\n",
        "print(ManMarried)\n",
        "print (\" A probabilidade de ser um homem e ser casado\", str(round(probManMarried*100, 4)) + '%')"
      ],
      "metadata": {
        "colab": {
          "base_uri": "https://localhost:8080/"
        },
        "id": "S2Nc9bpM4ksl",
        "outputId": "bb0425e3-bb78-40e4-e941-4dc0ca753f98"
      },
      "execution_count": null,
      "outputs": [
        {
          "output_type": "stream",
          "name": "stdout",
          "text": [
            "1060\n",
            " A probabilidade de ser um homem e ser casado 74.1777%\n"
          ]
        }
      ]
    },
    {
      "cell_type": "markdown",
      "source": [
        "**Probabilidade de ser uma mulher e ter depressão**"
      ],
      "metadata": {
        "id": "A1hp68PITlWb"
      }
    },
    {
      "cell_type": "code",
      "source": [
        "WomanDepressed =  len(data[(data['sex'] == 0) & (data['depressed'] >0)])\n",
        "probWomanDepressed = WomanDepressed/ len(data)\n",
        "print(WomanDepressed)\n",
        "print (\" A probabilidade de uma mulher ter depressão \", str(round(probWomanDepressed*100, 4)) + '%')"
      ],
      "metadata": {
        "colab": {
          "base_uri": "https://localhost:8080/"
        },
        "id": "54zpEmw9TrZL",
        "outputId": "98b0b2d2-a263-4bdc-83f0-c79ce67417ea"
      },
      "execution_count": null,
      "outputs": [
        {
          "output_type": "stream",
          "name": "stdout",
          "text": [
            "20\n",
            " A probabilidade de uma mulher ter depressão  1.3996%\n"
          ]
        }
      ]
    },
    {
      "cell_type": "markdown",
      "source": [
        "**Probabilidade de ser um homem e ter depressão**"
      ],
      "metadata": {
        "id": "I3_EV2dWU-Nc"
      }
    },
    {
      "cell_type": "code",
      "source": [
        "ManDepressed =  len(data[(data['sex'] == 1) & (data['depressed'] >0)])\n",
        "probManDepressed = ManDepressed/ len(data)\n",
        "print (\" A probabilidade de um homem ter depressão \", str(round(probManDepressed*100, 4)) + '%')"
      ],
      "metadata": {
        "colab": {
          "base_uri": "https://localhost:8080/"
        },
        "id": "D5PdM6GxVC59",
        "outputId": "4abe770b-f0e7-4103-ae84-292235f6f4aa"
      },
      "execution_count": null,
      "outputs": [
        {
          "output_type": "stream",
          "name": "stdout",
          "text": [
            " A probabilidade de um homem ter depressão  15.2554%\n"
          ]
        }
      ]
    },
    {
      "cell_type": "markdown",
      "source": [
        "**Probabilidade de ser uma mulher casada e ter depressão**"
      ],
      "metadata": {
        "id": "1f_JqakauSJ_"
      }
    },
    {
      "cell_type": "code",
      "source": [
        "WomanMarriedDepressed =  len(data[(data['sex'] == 0)  & (data['Married'] >0) & (data['depressed'] >0)])\n",
        "probWomanMarriedDepressed = WomanMarriedDepressed /len(data)\n",
        "print( \"A probabilidade de ser uma mulher casada e ter depressão:\",str(round(probWomanMarriedDepressed*100, 4)) + '%')"
      ],
      "metadata": {
        "colab": {
          "base_uri": "https://localhost:8080/"
        },
        "id": "dUlSk-4quRfg",
        "outputId": "736ef34e-2f14-4a53-9bfc-aee15a176965"
      },
      "execution_count": null,
      "outputs": [
        {
          "output_type": "stream",
          "name": "stdout",
          "text": [
            "A probabilidade de ser uma mulher casada e ter depressão: 0.6298%\n"
          ]
        }
      ]
    },
    {
      "cell_type": "markdown",
      "source": [
        "**Probabilidade de ser um homem casado e ter depressão**"
      ],
      "metadata": {
        "id": "gymk0Cr1xBWB"
      }
    },
    {
      "cell_type": "code",
      "source": [
        "ManMarriedDepressed =  len(data[(data['sex'] == 1)  & (data['Married'] >0) & (data['depressed'] >0)])\n",
        "probManMarriedDepressed = ManMarriedDepressed /len(data)\n",
        "print( \"A probabilidade de ser um homem casado e ter depressão:\",str(round(probManMarriedDepressed*100, 4)) + '%')\n"
      ],
      "metadata": {
        "colab": {
          "base_uri": "https://localhost:8080/"
        },
        "id": "p0upW4pTxKdZ",
        "outputId": "68b0c938-eee3-45e7-8e85-89ddef92c714"
      },
      "execution_count": null,
      "outputs": [
        {
          "output_type": "stream",
          "name": "stdout",
          "text": [
            "A probabilidade de ser um homem casado e ter depressão: 11.2666%\n"
          ]
        }
      ]
    },
    {
      "cell_type": "markdown",
      "source": [
        "##**Probabilidade Complementar**"
      ],
      "metadata": {
        "id": "1RQ5dtzlLHfx"
      }
    },
    {
      "cell_type": "markdown",
      "source": [
        "**Probabilidade de Ser Conjuge e não ter depressão**"
      ],
      "metadata": {
        "id": "VZJDZd8Fm8Rh"
      }
    },
    {
      "cell_type": "code",
      "source": [
        "MarriedNotDepressed = probMarried- probMarriedDepressed /len(data)\n",
        "print(str(round(MarriedNotDepressed*100, 4)) + '%')"
      ],
      "metadata": {
        "colab": {
          "base_uri": "https://localhost:8080/"
        },
        "id": "Fdc-1gUcnCJH",
        "outputId": "57dc35ca-4d84-4306-aa32-27aeddd53190"
      },
      "execution_count": null,
      "outputs": [
        {
          "output_type": "stream",
          "name": "stdout",
          "text": [
            "77.2485%\n"
          ]
        }
      ]
    },
    {
      "cell_type": "markdown",
      "source": [
        "**Probabilidade de não ter um conjuge**"
      ],
      "metadata": {
        "id": "uvcGASuiZCt-"
      }
    },
    {
      "cell_type": "code",
      "source": [
        "probNotMarried = (len(data) - Married)/len(data)\n",
        "print('A probabilidade de não ter um conjuge: ' + str(round(probNotMarried*100, 4)) + '%')\n"
      ],
      "metadata": {
        "colab": {
          "base_uri": "https://localhost:8080/"
        },
        "id": "Lr-6VZ_0ZG-F",
        "outputId": "f62034ac-f842-4590-bff8-beff0ff1c918"
      },
      "execution_count": null,
      "outputs": [
        {
          "output_type": "stream",
          "name": "stdout",
          "text": [
            "A probabilidade de não ter um conjuge: 22.7432%\n"
          ]
        }
      ]
    },
    {
      "cell_type": "markdown",
      "source": [
        "**Probabilidade de ser um homem solteiro**"
      ],
      "metadata": {
        "id": "6sXTXLcC4-l1"
      }
    },
    {
      "cell_type": "code",
      "source": [
        "ManNotMarried= probMan - probManMarried\n",
        "print (\" A probabilidade de ser um homem e ser solteiro\", str(round(ManNotMarried*100, 4)) + '%')"
      ],
      "metadata": {
        "colab": {
          "base_uri": "https://localhost:8080/"
        },
        "id": "FsAnhKvk5FhG",
        "outputId": "b8e0942e-e92f-4126-af4c-7dcb579373c9"
      },
      "execution_count": null,
      "outputs": [
        {
          "output_type": "stream",
          "name": "stdout",
          "text": [
            " A probabilidade de ser um homem e ser solteiro 17.6347%\n"
          ]
        }
      ]
    },
    {
      "cell_type": "markdown",
      "source": [
        "**Probabiliade de ser mulher solteira**"
      ],
      "metadata": {
        "id": "dSyNeskx1Fwl"
      }
    },
    {
      "cell_type": "code",
      "source": [
        "WomanNotMarried= probWoman-probWomanMarried\n",
        "print(\"A probabilidade de ser mulher e ser solteira é de \", str(round(WomanNotMarried*100, 4)) + '%')"
      ],
      "metadata": {
        "colab": {
          "base_uri": "https://localhost:8080/"
        },
        "id": "1pRmwkYF1LU0",
        "outputId": "e78f29c3-ad9a-4b21-faf2-d7a8b4304a22"
      },
      "execution_count": null,
      "outputs": [
        {
          "output_type": "stream",
          "name": "stdout",
          "text": [
            "A probabilidade de ser mulher e ser solteira é de  5.1085%\n"
          ]
        }
      ]
    },
    {
      "cell_type": "markdown",
      "source": [
        "**Probabilidade de ser mulher e não ter depressão**"
      ],
      "metadata": {
        "id": "CNvArLcaBpfZ"
      }
    },
    {
      "cell_type": "code",
      "source": [
        "probWomanNotDepressed= probWoman - probWomanDepressed\n",
        "print('A probabilidade de ser mulher e não ter depressão  ' + str(round(probWomanNotDepressed*100, 4)) + '%')"
      ],
      "metadata": {
        "colab": {
          "base_uri": "https://localhost:8080/"
        },
        "id": "owNx1mJjBuaf",
        "outputId": "58ae39eb-7e15-47b9-80c0-a92e28a8835e"
      },
      "execution_count": null,
      "outputs": [
        {
          "output_type": "stream",
          "name": "stdout",
          "text": [
            "A probabilidade de ser mulher e não ter depressão  6.788%\n"
          ]
        }
      ]
    },
    {
      "cell_type": "markdown",
      "source": [
        "**Probabilidade de ser homem e não ter depressão**"
      ],
      "metadata": {
        "id": "Cu-thbLVG0JO"
      }
    },
    {
      "cell_type": "code",
      "source": [
        "probManNotDepressed= probMan - probManDepressed\n",
        "print('A probabilidade de ser homem e não ter depressão  ' + str(round(probManNotDepressed*100, 4)) + '%')"
      ],
      "metadata": {
        "colab": {
          "base_uri": "https://localhost:8080/"
        },
        "id": "A70c8NNoGS6_",
        "outputId": "a77a7325-017e-4cf8-d603-1d5e524b2b9d"
      },
      "execution_count": null,
      "outputs": [
        {
          "output_type": "stream",
          "name": "stdout",
          "text": [
            "A probabilidade de ser homem e não ter depressão  76.557%\n"
          ]
        }
      ]
    },
    {
      "cell_type": "markdown",
      "source": [
        "**Probabilidade de ser homem, casado e não ter depressão**"
      ],
      "metadata": {
        "id": "l2uXE0AhlHJb"
      }
    },
    {
      "cell_type": "code",
      "source": [
        "probManMarriedNotDepressed = probManMarried - probManMarriedDepressed\n",
        "print( \"A probabilidade de ser um homem casado e não ter depressão é \",str(round(probManMarriedNotDepressed*100, 4)) + '%')"
      ],
      "metadata": {
        "colab": {
          "base_uri": "https://localhost:8080/"
        },
        "id": "ND6wWy_JlDY5",
        "outputId": "232a9dd1-2ee3-45c1-af85-0c4acea4f1d4"
      },
      "execution_count": null,
      "outputs": [
        {
          "output_type": "stream",
          "name": "stdout",
          "text": [
            "A probabilidade de ser um homem casado e não ter depressão é  62.9111%\n"
          ]
        }
      ]
    },
    {
      "cell_type": "markdown",
      "source": [
        "**Probabilidade de ser uma mulher casada e não ter depressão**"
      ],
      "metadata": {
        "id": "Z-KKaEu7MMr5"
      }
    },
    {
      "cell_type": "code",
      "source": [
        "probWomanMarriedNotDepressed = probWomanMarried - probWomanMarriedDepressed\n",
        "print( \"A probabilidade de ser um homem casado e não ter depressão é \",str(round(probWomanMarriedNotDepressed*100, 4)) + '%')"
      ],
      "metadata": {
        "colab": {
          "base_uri": "https://localhost:8080/"
        },
        "id": "GTnYL9hfMUL4",
        "outputId": "407861a5-8656-4da4-8e68-dc61df631c75"
      },
      "execution_count": null,
      "outputs": [
        {
          "output_type": "stream",
          "name": "stdout",
          "text": [
            "A probabilidade de ser um homem casado e não ter depressão é  2.4493%\n"
          ]
        }
      ]
    },
    {
      "cell_type": "markdown",
      "source": [
        "##**Probabilidade da Diferença**"
      ],
      "metadata": {
        "id": "FewVwiDuOKHs"
      }
    },
    {
      "cell_type": "markdown",
      "source": [
        "**Probabilidade de um casal ter pelo menos um filho**"
      ],
      "metadata": {
        "id": "nqgg3pTpQWx7"
      }
    },
    {
      "cell_type": "code",
      "source": [
        "MarriedWithChildrens = len(data[data['Married']>0]) - len(data[(data['Number_children']==0)  & (data['Married']>0)])\n",
        "probMarriedWithChildrens = MarriedWithChildrens/len(data)\n",
        "print('A probabilidade de estar casado e ter pelo menos um filho  ' + str(round(probMarriedWithChildrens*100, 4)) + '%')"
      ],
      "metadata": {
        "colab": {
          "base_uri": "https://localhost:8080/"
        },
        "id": "U7NpWE1JORAD",
        "outputId": "6a175bd8-14c8-48f2-b94c-665a6bbbb683"
      },
      "execution_count": null,
      "outputs": [
        {
          "output_type": "stream",
          "name": "stdout",
          "text": [
            "A probabilidade de estar casado e ter pelo menos um filho  72.9881%\n"
          ]
        }
      ]
    },
    {
      "cell_type": "markdown",
      "source": [
        "##**Probabilidade Condicional**"
      ],
      "metadata": {
        "id": "YyCHOKpvQ2iy"
      }
    },
    {
      "cell_type": "markdown",
      "source": [
        "**Probabilidade de ser solteiro se for homem**"
      ],
      "metadata": {
        "id": "n-c5zEfMdpia"
      }
    },
    {
      "cell_type": "code",
      "source": [
        "probCondManNotMarried = ManNotMarried/probMan\n",
        "print('A probabilidade de ser solteiro se for homem  ' + str(round(probCondManNotMarried*100, 4)) + '%')"
      ],
      "metadata": {
        "colab": {
          "base_uri": "https://localhost:8080/"
        },
        "id": "6nuc7vJJdvsm",
        "outputId": "7164bbf6-ec7b-4e79-f853-b24b57dfb124"
      },
      "execution_count": null,
      "outputs": [
        {
          "output_type": "stream",
          "name": "stdout",
          "text": [
            "A probabilidade de ser solteiro se for homem  19.2073%\n"
          ]
        }
      ]
    },
    {
      "cell_type": "markdown",
      "source": [
        "**Probabilidade de ser solteira se for mulher**"
      ],
      "metadata": {
        "id": "myF_7-pfjy0X"
      }
    },
    {
      "cell_type": "code",
      "source": [
        "probCondWomanNotMarried = WomanNotMarried/probWoman\n",
        "print('A probabilidade de ser solteiro se for mulher  ' + str(round(probCondWomanNotMarried*100, 4)) + '%')"
      ],
      "metadata": {
        "colab": {
          "base_uri": "https://localhost:8080/"
        },
        "id": "t8FdOFwKj1lt",
        "outputId": "a6ebddc1-e817-4af8-f38f-df47c8744978"
      },
      "execution_count": null,
      "outputs": [
        {
          "output_type": "stream",
          "name": "stdout",
          "text": [
            "A probabilidade de ser solteiro se for mulher  62.3932%\n"
          ]
        }
      ]
    },
    {
      "cell_type": "markdown",
      "source": [
        "**Probabilidade de ser casado se for homem**"
      ],
      "metadata": {
        "id": "M_YQirU0fJym"
      }
    },
    {
      "cell_type": "code",
      "source": [
        "probCondManMarried = probManMarried/probMan\n",
        "print('A probabilidade de ser solteiro se for homem  ' + str(round(probCondManMarried*100, 4)) + '%')"
      ],
      "metadata": {
        "colab": {
          "base_uri": "https://localhost:8080/"
        },
        "id": "tNDHvlzqe0dn",
        "outputId": "e09d4190-3bf8-46d9-e0fd-f8d9723f90c2"
      },
      "execution_count": null,
      "outputs": [
        {
          "output_type": "stream",
          "name": "stdout",
          "text": [
            "A probabilidade de ser solteiro se for homem  80.7927%\n"
          ]
        }
      ]
    },
    {
      "cell_type": "markdown",
      "source": [
        "**Probabilidade de ser casada se for mulher**"
      ],
      "metadata": {
        "id": "ZSEXUQZbkInX"
      }
    },
    {
      "cell_type": "code",
      "source": [
        "probCondWomanMarried = probWomanMarried/probWoman\n",
        "print('A probabilidade de ser solteira se for mulher  ' + str(round(probCondWomanMarried*100, 4)) + '%')"
      ],
      "metadata": {
        "colab": {
          "base_uri": "https://localhost:8080/"
        },
        "id": "vKNFDaNKkMsp",
        "outputId": "17a9ba34-a52a-4a07-fde0-b0dbb120ce5b"
      },
      "execution_count": null,
      "outputs": [
        {
          "output_type": "stream",
          "name": "stdout",
          "text": [
            "A probabilidade de ser solteira se for mulher  37.6068%\n"
          ]
        }
      ]
    },
    {
      "cell_type": "markdown",
      "source": [
        "**Probabilidade de ter depressão se for mulher**"
      ],
      "metadata": {
        "id": "aUbFbjEkQ7Ka"
      }
    },
    {
      "cell_type": "code",
      "source": [
        "probcondWomanDepressed = probWomanDepressed/probWoman\n",
        "print('A probabilidade de ter depressão se for mulher  ' + str(round(probcondWomanDepressed*100, 4)) + '%')"
      ],
      "metadata": {
        "colab": {
          "base_uri": "https://localhost:8080/"
        },
        "id": "n54DeDKVSn4K",
        "outputId": "d8d426dc-40d0-4cc0-dc49-7e7f4b08de14"
      },
      "execution_count": null,
      "outputs": [
        {
          "output_type": "stream",
          "name": "stdout",
          "text": [
            "A probabilidade de ter depressão se for mulher  17.094%\n"
          ]
        }
      ]
    },
    {
      "cell_type": "markdown",
      "source": [
        ""
      ],
      "metadata": {
        "id": "Vy03iTOtW13E"
      }
    },
    {
      "cell_type": "markdown",
      "source": [
        "**Probabilidade de ter depressão se for homem**"
      ],
      "metadata": {
        "id": "jyyG2MsXUjoU"
      }
    },
    {
      "cell_type": "code",
      "source": [
        "probcondManDepressed = probManDepressed/probMan\n",
        "print('A probabilidade de ter depressão se for homem  ' + str(round(probcondManDepressed*100, 4)) + '%')"
      ],
      "metadata": {
        "colab": {
          "base_uri": "https://localhost:8080/"
        },
        "id": "J84suswrUuLr",
        "outputId": "8632e1f0-eaff-45dc-ab81-fd75885c6a78"
      },
      "execution_count": null,
      "outputs": [
        {
          "output_type": "stream",
          "name": "stdout",
          "text": [
            "A probabilidade de ter depressão se for homem  16.6159%\n"
          ]
        }
      ]
    },
    {
      "cell_type": "markdown",
      "source": [
        "**Probabilidade de ter depressão se for conjuge**"
      ],
      "metadata": {
        "id": "bRNkm7e2n0EZ"
      }
    },
    {
      "cell_type": "code",
      "source": [
        "probCondMarriedDepressed = probMarriedDepressed/probMarried\n",
        "print('A probabilidade de ter depressão se for conjuge  ' + str(round(probCondMarriedDepressed*100, 4)) + '%')"
      ],
      "metadata": {
        "colab": {
          "base_uri": "https://localhost:8080/"
        },
        "id": "26b0vHssn6qg",
        "outputId": "a14dc543-9ab5-4ec3-daac-6df30729c569"
      },
      "execution_count": null,
      "outputs": [
        {
          "output_type": "stream",
          "name": "stdout",
          "text": [
            "A probabilidade de ter depressão se for conjuge  15.3986%\n"
          ]
        }
      ]
    },
    {
      "cell_type": "markdown",
      "source": [
        "**Probabilidade de ter depressão se for uma mulher casada**"
      ],
      "metadata": {
        "id": "zibj-6ppkt4H"
      }
    },
    {
      "cell_type": "code",
      "source": [
        "probCondWomanMarriedDepressed = probWomanMarriedDepressed/probWoman\n",
        "print('A probabilidade de ter depressão se for uma mulher casada  ' + str(round(probcondManDepressed*100, 4)) + '%')"
      ],
      "metadata": {
        "colab": {
          "base_uri": "https://localhost:8080/"
        },
        "id": "NiPbY_MukzZg",
        "outputId": "073a7d1b-c0ec-4279-8249-fa0d766e8168"
      },
      "execution_count": null,
      "outputs": [
        {
          "output_type": "stream",
          "name": "stdout",
          "text": [
            "A probabilidade de ter depressão se for uma mulher casada  16.6159%\n"
          ]
        }
      ]
    },
    {
      "cell_type": "markdown",
      "source": [
        "**Probabilidade de ter depressão se for um homem casado**"
      ],
      "metadata": {
        "id": "gSdOXulUlNEA"
      }
    },
    {
      "cell_type": "code",
      "source": [
        "probCondManMarriedDepressed = probManMarriedDepressed/probMan\n",
        "print('A probabilidade de ter depressão se for um homem casado  ' + str(round(probCondManMarriedDepressed*100, 4)) + '%')"
      ],
      "metadata": {
        "colab": {
          "base_uri": "https://localhost:8080/"
        },
        "id": "DB7tBTxrlSaX",
        "outputId": "fe99e1e8-d7b1-4bc3-8eaf-a5376a761e6b"
      },
      "execution_count": null,
      "outputs": [
        {
          "output_type": "stream",
          "name": "stdout",
          "text": [
            "A probabilidade de ter depressão se for um homem casado  12.2713%\n"
          ]
        }
      ]
    },
    {
      "cell_type": "markdown",
      "source": [
        "##**Teorema de Bayes**"
      ],
      "metadata": {
        "id": "v6bDPOmbs1sB"
      }
    },
    {
      "cell_type": "markdown",
      "source": [
        "**Qual a probabilidade de ter depressão, tal que seja uma mulher casada**"
      ],
      "metadata": {
        "id": "ogJexJ7Ls7H3"
      }
    },
    {
      "cell_type": "code",
      "source": [
        "probDepressedtqWomanMarried = (probCondMarriedDepressed*probWoman)/probMarried\n",
        "print('A probabilidade de ter depressão tal que seja uma mulher casada:  ' + str(round(probDepressedtqWomanMarried*100, 4)) + '%')"
      ],
      "metadata": {
        "colab": {
          "base_uri": "https://localhost:8080/"
        },
        "id": "g0EKq2Dhs5XY",
        "outputId": "5bbb706c-863f-48c7-bfdc-8a0495b0091d"
      },
      "execution_count": null,
      "outputs": [
        {
          "output_type": "stream",
          "name": "stdout",
          "text": [
            "A probabilidade de ter depressão tal que seja uma mulher casada:  1.6319%\n"
          ]
        }
      ]
    },
    {
      "cell_type": "markdown",
      "source": [
        "##**Variaveis Aleatorias**"
      ],
      "metadata": {
        "id": "GSY339_muv-x"
      }
    },
    {
      "cell_type": "markdown",
      "source": [
        "**quantidade de pessoas com e sem depressão**"
      ],
      "metadata": {
        "id": "9nQNy1ivvTYJ"
      }
    },
    {
      "cell_type": "code",
      "source": [
        "data['depressed'].value_counts()"
      ],
      "metadata": {
        "colab": {
          "base_uri": "https://localhost:8080/"
        },
        "id": "1_5tV0EZu1pY",
        "outputId": "aa014c7a-9a1f-4115-eae4-7d6753f6716b"
      },
      "execution_count": null,
      "outputs": [
        {
          "output_type": "execute_result",
          "data": {
            "text/plain": [
              "0    1191\n",
              "1     238\n",
              "Name: depressed, dtype: int64"
            ]
          },
          "metadata": {},
          "execution_count": 45
        }
      ]
    },
    {
      "cell_type": "markdown",
      "source": [
        "**Quantitade de pessoas solterias e casadas**"
      ],
      "metadata": {
        "id": "SEviGEK-v-o6"
      }
    },
    {
      "cell_type": "code",
      "source": [
        "data['Married'].value_counts()"
      ],
      "metadata": {
        "colab": {
          "base_uri": "https://localhost:8080/"
        },
        "id": "VYm5B_W0vfLp",
        "outputId": "3743877c-2705-483b-9f27-f0cde73b8e75"
      },
      "execution_count": null,
      "outputs": [
        {
          "output_type": "execute_result",
          "data": {
            "text/plain": [
              "1    1104\n",
              "0     325\n",
              "Name: Married, dtype: int64"
            ]
          },
          "metadata": {},
          "execution_count": 46
        }
      ]
    },
    {
      "cell_type": "markdown",
      "source": [
        "**Quantidade de Homens e Mulheres**"
      ],
      "metadata": {
        "id": "FoHBr3HPwFBp"
      }
    },
    {
      "cell_type": "code",
      "source": [
        "data['sex'].value_counts()"
      ],
      "metadata": {
        "colab": {
          "base_uri": "https://localhost:8080/"
        },
        "id": "vYkAKYkYvoXg",
        "outputId": "f37c86e8-a092-40cb-8ee5-fa908ee65859"
      },
      "execution_count": null,
      "outputs": [
        {
          "output_type": "execute_result",
          "data": {
            "text/plain": [
              "1    1312\n",
              "0     117\n",
              "Name: sex, dtype: int64"
            ]
          },
          "metadata": {},
          "execution_count": 47
        }
      ]
    },
    {
      "cell_type": "markdown",
      "source": [
        "**Quantidade de Pessoas que tem X filhos**"
      ],
      "metadata": {
        "id": "qgrdmol_wMwp"
      }
    },
    {
      "cell_type": "code",
      "source": [
        "data['Number_children'].value_counts()"
      ],
      "metadata": {
        "colab": {
          "base_uri": "https://localhost:8080/"
        },
        "id": "qB0WoE0Rvzgk",
        "outputId": "2020ce6f-8c71-4151-b0db-a2f481e6b685"
      },
      "execution_count": null,
      "outputs": [
        {
          "output_type": "execute_result",
          "data": {
            "text/plain": [
              "3     307\n",
              "2     294\n",
              "4     229\n",
              "1     187\n",
              "0     154\n",
              "5     127\n",
              "6      74\n",
              "7      35\n",
              "8      17\n",
              "9       3\n",
              "10      1\n",
              "11      1\n",
              "Name: Number_children, dtype: int64"
            ]
          },
          "metadata": {},
          "execution_count": 48
        }
      ]
    },
    {
      "cell_type": "markdown",
      "source": [
        "##**Função Probabilidade**"
      ],
      "metadata": {
        "id": "oIYSFPky53OF"
      }
    },
    {
      "cell_type": "markdown",
      "source": [
        "**Função Probabilidade de ter Depressão ou não**"
      ],
      "metadata": {
        "id": "H6C0LFDS6q87"
      }
    },
    {
      "cell_type": "code",
      "source": [
        "depressed_function = data[\"depressed\"].value_counts().sort_index()/data[ 'depressed'].count()\n",
        "print(depressed_function)"
      ],
      "metadata": {
        "colab": {
          "base_uri": "https://localhost:8080/"
        },
        "id": "NZ8zKEX_58UD",
        "outputId": "a6c96485-f11b-4a82-9fec-6ee7a8ebe43b"
      },
      "execution_count": null,
      "outputs": [
        {
          "output_type": "stream",
          "name": "stdout",
          "text": [
            "0    0.83345\n",
            "1    0.16655\n",
            "Name: depressed, dtype: float64\n"
          ]
        }
      ]
    },
    {
      "cell_type": "markdown",
      "source": [
        "**Função Probabilidade de ter Conjuge ou não**"
      ],
      "metadata": {
        "id": "XO7eMFe168Ck"
      }
    },
    {
      "cell_type": "code",
      "source": [
        "married_function = data[\"Married\"].value_counts().sort_index()/data[ 'Married'].count()\n",
        "print(married_function)"
      ],
      "metadata": {
        "colab": {
          "base_uri": "https://localhost:8080/"
        },
        "id": "qqWQD2ZN6waD",
        "outputId": "c9354d4f-ee84-48eb-edc1-66adb6b66f04"
      },
      "execution_count": null,
      "outputs": [
        {
          "output_type": "stream",
          "name": "stdout",
          "text": [
            "0    0.227432\n",
            "1    0.772568\n",
            "Name: Married, dtype: float64\n"
          ]
        }
      ]
    },
    {
      "cell_type": "markdown",
      "source": [
        "**Função Probabilidade de ser Homem ou Mulher**"
      ],
      "metadata": {
        "id": "fzwSsQoq7JqT"
      }
    },
    {
      "cell_type": "code",
      "source": [
        "sex_function = data[\"sex\"].value_counts().sort_index()/data[ 'sex'].count()\n",
        "print(sex_function)"
      ],
      "metadata": {
        "colab": {
          "base_uri": "https://localhost:8080/"
        },
        "id": "z5Vd7TbZ6wf2",
        "outputId": "57266901-8dec-441d-de4d-03465a65329b"
      },
      "execution_count": null,
      "outputs": [
        {
          "output_type": "stream",
          "name": "stdout",
          "text": [
            "0    0.081875\n",
            "1    0.918125\n",
            "Name: sex, dtype: float64\n"
          ]
        }
      ]
    },
    {
      "cell_type": "markdown",
      "source": [
        "**Funçao Probabilidade de ter Filhos**"
      ],
      "metadata": {
        "id": "clDpuLW3CbTe"
      }
    },
    {
      "cell_type": "code",
      "source": [
        "children_function = data[\"Number_children\"].value_counts().sort_index()/data[ 'Number_children'].count()\n",
        "print(children_function)"
      ],
      "metadata": {
        "colab": {
          "base_uri": "https://localhost:8080/"
        },
        "id": "VYmfITPACfct",
        "outputId": "b182d9e4-7a15-4486-b6c9-67a0d7920004"
      },
      "execution_count": null,
      "outputs": [
        {
          "output_type": "stream",
          "name": "stdout",
          "text": [
            "0     0.107768\n",
            "1     0.130861\n",
            "2     0.205738\n",
            "3     0.214836\n",
            "4     0.160252\n",
            "5     0.088873\n",
            "6     0.051784\n",
            "7     0.024493\n",
            "8     0.011896\n",
            "9     0.002099\n",
            "10    0.000700\n",
            "11    0.000700\n",
            "Name: Number_children, dtype: float64\n"
          ]
        }
      ]
    },
    {
      "cell_type": "markdown",
      "source": [
        "##**Função Repartição**"
      ],
      "metadata": {
        "id": "XtcnA5UX7V5F"
      }
    },
    {
      "cell_type": "code",
      "source": [
        "depressed_function.cumsum()"
      ],
      "metadata": {
        "colab": {
          "base_uri": "https://localhost:8080/"
        },
        "id": "NaL7MFR87aJc",
        "outputId": "755aa8d1-d788-41ac-b22f-8bc342c0b6ef"
      },
      "execution_count": null,
      "outputs": [
        {
          "output_type": "execute_result",
          "data": {
            "text/plain": [
              "0    0.83345\n",
              "1    1.00000\n",
              "Name: depressed, dtype: float64"
            ]
          },
          "metadata": {},
          "execution_count": 53
        }
      ]
    },
    {
      "cell_type": "code",
      "source": [
        "children_function.cumsum()"
      ],
      "metadata": {
        "colab": {
          "base_uri": "https://localhost:8080/"
        },
        "id": "axoALfT5CnUN",
        "outputId": "de489e67-ef29-48a1-8bd0-a583a371efa4"
      },
      "execution_count": null,
      "outputs": [
        {
          "output_type": "execute_result",
          "data": {
            "text/plain": [
              "0     0.107768\n",
              "1     0.238628\n",
              "2     0.444367\n",
              "3     0.659202\n",
              "4     0.819454\n",
              "5     0.908328\n",
              "6     0.960112\n",
              "7     0.984605\n",
              "8     0.996501\n",
              "9     0.998600\n",
              "10    0.999300\n",
              "11    1.000000\n",
              "Name: Number_children, dtype: float64"
            ]
          },
          "metadata": {},
          "execution_count": 54
        }
      ]
    },
    {
      "cell_type": "markdown",
      "source": [
        "##**Gráficos**"
      ],
      "metadata": {
        "id": "spV2db9DDJP9"
      }
    },
    {
      "cell_type": "code",
      "source": [
        "import matplotlib.pyplot as plt"
      ],
      "metadata": {
        "id": "MvHPAhN9DOXm"
      },
      "execution_count": null,
      "outputs": []
    },
    {
      "cell_type": "code",
      "source": [
        "plt.plot(children_function)"
      ],
      "metadata": {
        "colab": {
          "base_uri": "https://localhost:8080/",
          "height": 282
        },
        "id": "v0obuQZ2DU3F",
        "outputId": "5142479d-a088-4020-c1a5-4ff41cef6969"
      },
      "execution_count": null,
      "outputs": [
        {
          "output_type": "execute_result",
          "data": {
            "text/plain": [
              "[<matplotlib.lines.Line2D at 0x7f3bd1e51910>]"
            ]
          },
          "metadata": {},
          "execution_count": 56
        },
        {
          "output_type": "display_data",
          "data": {
            "text/plain": [
              "<Figure size 432x288 with 1 Axes>"
            ],
            "image/png": "[encoded data removed]"
          },
          "metadata": {
            "needs_background": "light"
          }
        }
      ]
    },
    {
      "cell_type": "code",
      "source": [
        "grafic = children_function.cumsum()"
      ],
      "metadata": {
        "id": "0GCL89xhDs3O"
      },
      "execution_count": null,
      "outputs": []
    },
    {
      "cell_type": "code",
      "source": [
        "plt.plot(grafic, 'r--')\n",
        "plt.title('Gráfico Probabilidade de X filhos')\n",
        "plt.xlabel('Quantidade de Filhos')\n",
        "plt.ylabel('probabilidade')"
      ],
      "metadata": {
        "colab": {
          "base_uri": "https://localhost:8080/",
          "height": 312
        },
        "id": "qrlDTyGRDvzO",
        "outputId": "1d67b2a5-5204-4ded-bdb2-b17df651a6ca"
      },
      "execution_count": null,
      "outputs": [
        {
          "output_type": "execute_result",
          "data": {
            "text/plain": [
              "Text(0, 0.5, 'probabilidade')"
            ]
          },
          "metadata": {},
          "execution_count": 58
        },
        {
          "output_type": "display_data",
          "data": {
            "text/plain": [
              "<Figure size 432x288 with 1 Axes>"
            ],
            "image/png": "[encoded data removed]"
          },
          "metadata": {
            "needs_background": "light"
          }
        }
      ]
    },
    {
      "cell_type": "code",
      "source": [
        "plt.plot(depressed_function)"
      ],
      "metadata": {
        "colab": {
          "base_uri": "https://localhost:8080/",
          "height": 282
        },
        "id": "xCcQ6B65FJdW",
        "outputId": "40b8bd63-67d7-4dcb-d947-3ee4ce5ee3e3"
      },
      "execution_count": null,
      "outputs": [
        {
          "output_type": "execute_result",
          "data": {
            "text/plain": [
              "[<matplotlib.lines.Line2D at 0x7f3bd17fb5d0>]"
            ]
          },
          "metadata": {},
          "execution_count": 59
        },
        {
          "output_type": "display_data",
          "data": {
            "text/plain": [
              "<Figure size 432x288 with 1 Axes>"
            ],
            "image/png": "[encoded data removed]"
          },
          "metadata": {
            "needs_background": "light"
          }
        }
      ]
    },
    {
      "cell_type": "code",
      "source": [
        "grafic = depressed_function.cumsum()"
      ],
      "metadata": {
        "id": "pTBW23MPFVtX"
      },
      "execution_count": null,
      "outputs": []
    },
    {
      "cell_type": "code",
      "source": [
        "plt.plot(grafic, 'r--')\n",
        "plt.title('Gráfico Probabilidade de ter Depressão')\n",
        "plt.xlabel('SIM OU NÃO (0 OU 1)')\n",
        "plt.ylabel('probabilidade')"
      ],
      "metadata": {
        "colab": {
          "base_uri": "https://localhost:8080/",
          "height": 314
        },
        "id": "__CXhoZ3FaYX",
        "outputId": "e856d5ef-01d4-4c99-a33c-71b0c54050d2"
      },
      "execution_count": null,
      "outputs": [
        {
          "output_type": "execute_result",
          "data": {
            "text/plain": [
              "Text(0, 0.5, 'probabilidade')"
            ]
          },
          "metadata": {},
          "execution_count": 61
        },
        {
          "output_type": "display_data",
          "data": {
            "text/plain": [
              "<Figure size 432x288 with 1 Axes>"
            ],
            "image/png": "[encoded data removed]"
          },
          "metadata": {
            "needs_background": "light"
          }
        }
      ]
    },
    {
      "cell_type": "markdown",
      "source": [
        "##**Covariância**"
      ],
      "metadata": {
        "id": "G0NZUOCEF-CX"
      }
    },
    {
      "cell_type": "markdown",
      "source": [
        "**Covariância Entre Sexo e Conjuge**"
      ],
      "metadata": {
        "id": "w2mHHfINGe_J"
      }
    },
    {
      "cell_type": "code",
      "source": [
        "data[['sex', 'Married']].cov()"
      ],
      "metadata": {
        "colab": {
          "base_uri": "https://localhost:8080/",
          "height": 112
        },
        "id": "ObPhkNUqGEXX",
        "outputId": "b7ffe38b-7631-4f06-9713-728440ff8cc1"
      },
      "execution_count": null,
      "outputs": [
        {
          "output_type": "execute_result",
          "data": {
            "text/plain": [
              "              sex   Married\n",
              "sex      0.075224  0.032486\n",
              "Married  0.032486  0.175830"
            ],
            "text/html": [
              "\n",
              "  <div id=\"df-e423981d-1397-41ce-89ac-e42168d17184\">\n",
              "    <div class=\"colab-df-container\">\n",
              "      <div>\n",
              "<style scoped>\n",
              "    .dataframe tbody tr th:only-of-type {\n",
              "        vertical-align: middle;\n",
              "    }\n",
              "\n",
              "    .dataframe tbody tr th {\n",
              "        vertical-align: top;\n",
              "    }\n",
              "\n",
              "    .dataframe thead th {\n",
              "        text-align: right;\n",
              "    }\n",
              "</style>\n",
              "<table border=\"1\" class=\"dataframe\">\n",
              "  <thead>\n",
              "    <tr style=\"text-align: right;\">\n",
              "      <th></th>\n",
              "      <th>sex</th>\n",
              "      <th>Married</th>\n",
              "    </tr>\n",
              "  </thead>\n",
              "  <tbody>\n",
              "    <tr>\n",
              "      <th>sex</th>\n",
              "      <td>0.075224</td>\n",
              "      <td>0.032486</td>\n",
              "    </tr>\n",
              "    <tr>\n",
              "      <th>Married</th>\n",
              "      <td>0.032486</td>\n",
              "      <td>0.175830</td>\n",
              "    </tr>\n",
              "  </tbody>\n",
              "</table>\n",
              "</div>\n",
              "      <button class=\"colab-df-convert\" onclick=\"convertToInteractive('df-e423981d-1397-41ce-89ac-e42168d17184')\"\n",
              "              title=\"Convert this dataframe to an interactive table.\"\n",
              "              style=\"display:none;\">\n",
              "        \n",
              "  <svg xmlns=\"http://www.w3.org/2000/svg\" height=\"24px\"viewBox=\"0 0 24 24\"\n",
              "       width=\"24px\">\n",
              "    <path d=\"M0 0h24v24H0V0z\" fill=\"none\"/>\n",
              "    <path d=\"M18.56 5.44l.94 2.06.94-2.06 2.06-.94-2.06-.94-.94-2.06-.94 2.06-2.06.94zm-11 1L8.5 8.5l.94-2.06 2.06-.94-2.06-.94L8.5 2.5l-.94 2.06-2.06.94zm10 10l.94 2.06.94-2.06 2.06-.94-2.06-.94-.94-2.06-.94 2.06-2.06.94z\"/><path d=\"M17.41 7.96l-1.37-1.37c-.4-.4-.92-.59-1.43-.59-.52 0-1.04.2-1.43.59L10.3 9.45l-7.72 7.72c-.78.78-.78 2.05 0 2.83L4 21.41c.39.39.9.59 1.41.59.51 0 1.02-.2 1.41-.59l7.78-7.78 2.81-2.81c.8-.78.8-2.07 0-2.86zM5.41 20L4 18.59l7.72-7.72 1.47 1.35L5.41 20z\"/>\n",
              "  </svg>\n",
              "      </button>\n",
              "      \n",
              "  <style>\n",
              "    .colab-df-container {\n",
              "      display:flex;\n",
              "      flex-wrap:wrap;\n",
              "      gap: 12px;\n",
              "    }\n",
              "\n",
              "    .colab-df-convert {\n",
              "      background-color: #E8F0FE;\n",
              "      border: none;\n",
              "      border-radius: 50%;\n",
              "      cursor: pointer;\n",
              "      display: none;\n",
              "      fill: #1967D2;\n",
              "      height: 32px;\n",
              "      padding: 0 0 0 0;\n",
              "      width: 32px;\n",
              "    }\n",
              "\n",
              "    .colab-df-convert:hover {\n",
              "      background-color: #E2EBFA;\n",
              "      box-shadow: 0px 1px 2px rgba(60, 64, 67, 0.3), 0px 1px 3px 1px rgba(60, 64, 67, 0.15);\n",
              "      fill: #174EA6;\n",
              "    }\n",
              "\n",
              "    [theme=dark] .colab-df-convert {\n",
              "      background-color: #3B4455;\n",
              "      fill: #D2E3FC;\n",
              "    }\n",
              "\n",
              "    [theme=dark] .colab-df-convert:hover {\n",
              "      background-color: #434B5C;\n",
              "      box-shadow: 0px 1px 3px 1px rgba(0, 0, 0, 0.15);\n",
              "      filter: drop-shadow(0px 1px 2px rgba(0, 0, 0, 0.3));\n",
              "      fill: #FFFFFF;\n",
              "    }\n",
              "  </style>\n",
              "\n",
              "      <script>\n",
              "        const buttonEl =\n",
              "          document.querySelector('#df-e423981d-1397-41ce-89ac-e42168d17184 button.colab-df-convert');\n",
              "        buttonEl.style.display =\n",
              "          google.colab.kernel.accessAllowed ? 'block' : 'none';\n",
              "\n",
              "        async function convertToInteractive(key) {\n",
              "          const element = document.querySelector('#df-e423981d-1397-41ce-89ac-e42168d17184');\n",
              "          const dataTable =\n",
              "            await google.colab.kernel.invokeFunction('convertToInteractive',\n",
              "                                                     [key], {});\n",
              "          if (!dataTable) return;\n",
              "\n",
              "          const docLinkHtml = 'Like what you see? Visit the ' +\n",
              "            '<a target=\"_blank\" href=https://colab.research.google.com/notebooks/data_table.ipynb>data table notebook</a>'\n",
              "            + ' to learn more about interactive tables.';\n",
              "          element.innerHTML = '';\n",
              "          dataTable['output_type'] = 'display_data';\n",
              "          await google.colab.output.renderOutput(dataTable, element);\n",
              "          const docLink = document.createElement('div');\n",
              "          docLink.innerHTML = docLinkHtml;\n",
              "          element.appendChild(docLink);\n",
              "        }\n",
              "      </script>\n",
              "    </div>\n",
              "  </div>\n",
              "  "
            ]
          },
          "metadata": {},
          "execution_count": 62
        }
      ]
    },
    {
      "cell_type": "markdown",
      "source": [
        "**Covariância entre Sexo e Depressão**"
      ],
      "metadata": {
        "id": "iTtnDKK1GvKm"
      }
    },
    {
      "cell_type": "code",
      "source": [
        "data[['sex', 'depressed']].cov()"
      ],
      "metadata": {
        "colab": {
          "base_uri": "https://localhost:8080/",
          "height": 112
        },
        "id": "XVbwXOL8GeUf",
        "outputId": "7dbcc3f9-5b72-496e-f025-c31e15e7081b"
      },
      "execution_count": null,
      "outputs": [
        {
          "output_type": "execute_result",
          "data": {
            "text/plain": [
              "                sex  depressed\n",
              "sex        0.075224  -0.000360\n",
              "depressed -0.000360   0.138908"
            ],
            "text/html": [
              "\n",
              "  <div id=\"df-4c8dc716-cb6e-4e79-8a85-8f4c2d1af728\">\n",
              "    <div class=\"colab-df-container\">\n",
              "      <div>\n",
              "<style scoped>\n",
              "    .dataframe tbody tr th:only-of-type {\n",
              "        vertical-align: middle;\n",
              "    }\n",
              "\n",
              "    .dataframe tbody tr th {\n",
              "        vertical-align: top;\n",
              "    }\n",
              "\n",
              "    .dataframe thead th {\n",
              "        text-align: right;\n",
              "    }\n",
              "</style>\n",
              "<table border=\"1\" class=\"dataframe\">\n",
              "  <thead>\n",
              "    <tr style=\"text-align: right;\">\n",
              "      <th></th>\n",
              "      <th>sex</th>\n",
              "      <th>depressed</th>\n",
              "    </tr>\n",
              "  </thead>\n",
              "  <tbody>\n",
              "    <tr>\n",
              "      <th>sex</th>\n",
              "      <td>0.075224</td>\n",
              "      <td>-0.000360</td>\n",
              "    </tr>\n",
              "    <tr>\n",
              "      <th>depressed</th>\n",
              "      <td>-0.000360</td>\n",
              "      <td>0.138908</td>\n",
              "    </tr>\n",
              "  </tbody>\n",
              "</table>\n",
              "</div>\n",
              "      <button class=\"colab-df-convert\" onclick=\"convertToInteractive('df-4c8dc716-cb6e-4e79-8a85-8f4c2d1af728')\"\n",
              "              title=\"Convert this dataframe to an interactive table.\"\n",
              "              style=\"display:none;\">\n",
              "        \n",
              "  <svg xmlns=\"http://www.w3.org/2000/svg\" height=\"24px\"viewBox=\"0 0 24 24\"\n",
              "       width=\"24px\">\n",
              "    <path d=\"M0 0h24v24H0V0z\" fill=\"none\"/>\n",
              "    <path d=\"M18.56 5.44l.94 2.06.94-2.06 2.06-.94-2.06-.94-.94-2.06-.94 2.06-2.06.94zm-11 1L8.5 8.5l.94-2.06 2.06-.94-2.06-.94L8.5 2.5l-.94 2.06-2.06.94zm10 10l.94 2.06.94-2.06 2.06-.94-2.06-.94-.94-2.06-.94 2.06-2.06.94z\"/><path d=\"M17.41 7.96l-1.37-1.37c-.4-.4-.92-.59-1.43-.59-.52 0-1.04.2-1.43.59L10.3 9.45l-7.72 7.72c-.78.78-.78 2.05 0 2.83L4 21.41c.39.39.9.59 1.41.59.51 0 1.02-.2 1.41-.59l7.78-7.78 2.81-2.81c.8-.78.8-2.07 0-2.86zM5.41 20L4 18.59l7.72-7.72 1.47 1.35L5.41 20z\"/>\n",
              "  </svg>\n",
              "      </button>\n",
              "      \n",
              "  <style>\n",
              "    .colab-df-container {\n",
              "      display:flex;\n",
              "      flex-wrap:wrap;\n",
              "      gap: 12px;\n",
              "    }\n",
              "\n",
              "    .colab-df-convert {\n",
              "      background-color: #E8F0FE;\n",
              "      border: none;\n",
              "      border-radius: 50%;\n",
              "      cursor: pointer;\n",
              "      display: none;\n",
              "      fill: #1967D2;\n",
              "      height: 32px;\n",
              "      padding: 0 0 0 0;\n",
              "      width: 32px;\n",
              "    }\n",
              "\n",
              "    .colab-df-convert:hover {\n",
              "      background-color: #E2EBFA;\n",
              "      box-shadow: 0px 1px 2px rgba(60, 64, 67, 0.3), 0px 1px 3px 1px rgba(60, 64, 67, 0.15);\n",
              "      fill: #174EA6;\n",
              "    }\n",
              "\n",
              "    [theme=dark] .colab-df-convert {\n",
              "      background-color: #3B4455;\n",
              "      fill: #D2E3FC;\n",
              "    }\n",
              "\n",
              "    [theme=dark] .colab-df-convert:hover {\n",
              "      background-color: #434B5C;\n",
              "      box-shadow: 0px 1px 3px 1px rgba(0, 0, 0, 0.15);\n",
              "      filter: drop-shadow(0px 1px 2px rgba(0, 0, 0, 0.3));\n",
              "      fill: #FFFFFF;\n",
              "    }\n",
              "  </style>\n",
              "\n",
              "      <script>\n",
              "        const buttonEl =\n",
              "          document.querySelector('#df-4c8dc716-cb6e-4e79-8a85-8f4c2d1af728 button.colab-df-convert');\n",
              "        buttonEl.style.display =\n",
              "          google.colab.kernel.accessAllowed ? 'block' : 'none';\n",
              "\n",
              "        async function convertToInteractive(key) {\n",
              "          const element = document.querySelector('#df-4c8dc716-cb6e-4e79-8a85-8f4c2d1af728');\n",
              "          const dataTable =\n",
              "            await google.colab.kernel.invokeFunction('convertToInteractive',\n",
              "                                                     [key], {});\n",
              "          if (!dataTable) return;\n",
              "\n",
              "          const docLinkHtml = 'Like what you see? Visit the ' +\n",
              "            '<a target=\"_blank\" href=https://colab.research.google.com/notebooks/data_table.ipynb>data table notebook</a>'\n",
              "            + ' to learn more about interactive tables.';\n",
              "          element.innerHTML = '';\n",
              "          dataTable['output_type'] = 'display_data';\n",
              "          await google.colab.output.renderOutput(dataTable, element);\n",
              "          const docLink = document.createElement('div');\n",
              "          docLink.innerHTML = docLinkHtml;\n",
              "          element.appendChild(docLink);\n",
              "        }\n",
              "      </script>\n",
              "    </div>\n",
              "  </div>\n",
              "  "
            ]
          },
          "metadata": {},
          "execution_count": 63
        }
      ]
    },
    {
      "cell_type": "markdown",
      "source": [
        "**Covariância entre depressão e o numero de filhos**"
      ],
      "metadata": {
        "id": "Lz1J2zBZHEIH"
      }
    },
    {
      "cell_type": "code",
      "source": [
        "data[['depressed', 'Number_children']].cov()"
      ],
      "metadata": {
        "colab": {
          "base_uri": "https://localhost:8080/",
          "height": 112
        },
        "id": "sLsT4M4DG-5f",
        "outputId": "474752a7-12f1-47d3-ec77-718924428875"
      },
      "execution_count": null,
      "outputs": [
        {
          "output_type": "execute_result",
          "data": {
            "text/plain": [
              "                 depressed  Number_children\n",
              "depressed         0.138908         0.002671\n",
              "Number_children   0.002671         3.513644"
            ],
            "text/html": [
              "\n",
              "  <div id=\"df-c0883fd5-f399-404d-aee9-bc64a5b89a7c\">\n",
              "    <div class=\"colab-df-container\">\n",
              "      <div>\n",
              "<style scoped>\n",
              "    .dataframe tbody tr th:only-of-type {\n",
              "        vertical-align: middle;\n",
              "    }\n",
              "\n",
              "    .dataframe tbody tr th {\n",
              "        vertical-align: top;\n",
              "    }\n",
              "\n",
              "    .dataframe thead th {\n",
              "        text-align: right;\n",
              "    }\n",
              "</style>\n",
              "<table border=\"1\" class=\"dataframe\">\n",
              "  <thead>\n",
              "    <tr style=\"text-align: right;\">\n",
              "      <th></th>\n",
              "      <th>depressed</th>\n",
              "      <th>Number_children</th>\n",
              "    </tr>\n",
              "  </thead>\n",
              "  <tbody>\n",
              "    <tr>\n",
              "      <th>depressed</th>\n",
              "      <td>0.138908</td>\n",
              "      <td>0.002671</td>\n",
              "    </tr>\n",
              "    <tr>\n",
              "      <th>Number_children</th>\n",
              "      <td>0.002671</td>\n",
              "      <td>3.513644</td>\n",
              "    </tr>\n",
              "  </tbody>\n",
              "</table>\n",
              "</div>\n",
              "      <button class=\"colab-df-convert\" onclick=\"convertToInteractive('df-c0883fd5-f399-404d-aee9-bc64a5b89a7c')\"\n",
              "              title=\"Convert this dataframe to an interactive table.\"\n",
              "              style=\"display:none;\">\n",
              "        \n",
              "  <svg xmlns=\"http://www.w3.org/2000/svg\" height=\"24px\"viewBox=\"0 0 24 24\"\n",
              "       width=\"24px\">\n",
              "    <path d=\"M0 0h24v24H0V0z\" fill=\"none\"/>\n",
              "    <path d=\"M18.56 5.44l.94 2.06.94-2.06 2.06-.94-2.06-.94-.94-2.06-.94 2.06-2.06.94zm-11 1L8.5 8.5l.94-2.06 2.06-.94-2.06-.94L8.5 2.5l-.94 2.06-2.06.94zm10 10l.94 2.06.94-2.06 2.06-.94-2.06-.94-.94-2.06-.94 2.06-2.06.94z\"/><path d=\"M17.41 7.96l-1.37-1.37c-.4-.4-.92-.59-1.43-.59-.52 0-1.04.2-1.43.59L10.3 9.45l-7.72 7.72c-.78.78-.78 2.05 0 2.83L4 21.41c.39.39.9.59 1.41.59.51 0 1.02-.2 1.41-.59l7.78-7.78 2.81-2.81c.8-.78.8-2.07 0-2.86zM5.41 20L4 18.59l7.72-7.72 1.47 1.35L5.41 20z\"/>\n",
              "  </svg>\n",
              "      </button>\n",
              "      \n",
              "  <style>\n",
              "    .colab-df-container {\n",
              "      display:flex;\n",
              "      flex-wrap:wrap;\n",
              "      gap: 12px;\n",
              "    }\n",
              "\n",
              "    .colab-df-convert {\n",
              "      background-color: #E8F0FE;\n",
              "      border: none;\n",
              "      border-radius: 50%;\n",
              "      cursor: pointer;\n",
              "      display: none;\n",
              "      fill: #1967D2;\n",
              "      height: 32px;\n",
              "      padding: 0 0 0 0;\n",
              "      width: 32px;\n",
              "    }\n",
              "\n",
              "    .colab-df-convert:hover {\n",
              "      background-color: #E2EBFA;\n",
              "      box-shadow: 0px 1px 2px rgba(60, 64, 67, 0.3), 0px 1px 3px 1px rgba(60, 64, 67, 0.15);\n",
              "      fill: #174EA6;\n",
              "    }\n",
              "\n",
              "    [theme=dark] .colab-df-convert {\n",
              "      background-color: #3B4455;\n",
              "      fill: #D2E3FC;\n",
              "    }\n",
              "\n",
              "    [theme=dark] .colab-df-convert:hover {\n",
              "      background-color: #434B5C;\n",
              "      box-shadow: 0px 1px 3px 1px rgba(0, 0, 0, 0.15);\n",
              "      filter: drop-shadow(0px 1px 2px rgba(0, 0, 0, 0.3));\n",
              "      fill: #FFFFFF;\n",
              "    }\n",
              "  </style>\n",
              "\n",
              "      <script>\n",
              "        const buttonEl =\n",
              "          document.querySelector('#df-c0883fd5-f399-404d-aee9-bc64a5b89a7c button.colab-df-convert');\n",
              "        buttonEl.style.display =\n",
              "          google.colab.kernel.accessAllowed ? 'block' : 'none';\n",
              "\n",
              "        async function convertToInteractive(key) {\n",
              "          const element = document.querySelector('#df-c0883fd5-f399-404d-aee9-bc64a5b89a7c');\n",
              "          const dataTable =\n",
              "            await google.colab.kernel.invokeFunction('convertToInteractive',\n",
              "                                                     [key], {});\n",
              "          if (!dataTable) return;\n",
              "\n",
              "          const docLinkHtml = 'Like what you see? Visit the ' +\n",
              "            '<a target=\"_blank\" href=https://colab.research.google.com/notebooks/data_table.ipynb>data table notebook</a>'\n",
              "            + ' to learn more about interactive tables.';\n",
              "          element.innerHTML = '';\n",
              "          dataTable['output_type'] = 'display_data';\n",
              "          await google.colab.output.renderOutput(dataTable, element);\n",
              "          const docLink = document.createElement('div');\n",
              "          docLink.innerHTML = docLinkHtml;\n",
              "          element.appendChild(docLink);\n",
              "        }\n",
              "      </script>\n",
              "    </div>\n",
              "  </div>\n",
              "  "
            ]
          },
          "metadata": {},
          "execution_count": 64
        }
      ]
    },
    {
      "cell_type": "markdown",
      "source": [
        "##**Correlação**"
      ],
      "metadata": {
        "id": "Y2Dxp3_JHLUW"
      }
    },
    {
      "cell_type": "markdown",
      "source": [
        "****Correlação Entre Sexo e Conjuge****"
      ],
      "metadata": {
        "id": "7pnkO3gAH1qn"
      }
    },
    {
      "cell_type": "code",
      "source": [
        "data[['sex', 'Married']].corr()"
      ],
      "metadata": {
        "colab": {
          "base_uri": "https://localhost:8080/",
          "height": 112
        },
        "id": "uJh9H7suHQzu",
        "outputId": "9518a528-f8b0-4715-a88e-cf71bc9605f0"
      },
      "execution_count": null,
      "outputs": [
        {
          "output_type": "execute_result",
          "data": {
            "text/plain": [
              "              sex   Married\n",
              "sex      1.000000  0.282472\n",
              "Married  0.282472  1.000000"
            ],
            "text/html": [
              "\n",
              "  <div id=\"df-99f8cb99-5bec-4a83-b481-f859cf7e0f25\">\n",
              "    <div class=\"colab-df-container\">\n",
              "      <div>\n",
              "<style scoped>\n",
              "    .dataframe tbody tr th:only-of-type {\n",
              "        vertical-align: middle;\n",
              "    }\n",
              "\n",
              "    .dataframe tbody tr th {\n",
              "        vertical-align: top;\n",
              "    }\n",
              "\n",
              "    .dataframe thead th {\n",
              "        text-align: right;\n",
              "    }\n",
              "</style>\n",
              "<table border=\"1\" class=\"dataframe\">\n",
              "  <thead>\n",
              "    <tr style=\"text-align: right;\">\n",
              "      <th></th>\n",
              "      <th>sex</th>\n",
              "      <th>Married</th>\n",
              "    </tr>\n",
              "  </thead>\n",
              "  <tbody>\n",
              "    <tr>\n",
              "      <th>sex</th>\n",
              "      <td>1.000000</td>\n",
              "      <td>0.282472</td>\n",
              "    </tr>\n",
              "    <tr>\n",
              "      <th>Married</th>\n",
              "      <td>0.282472</td>\n",
              "      <td>1.000000</td>\n",
              "    </tr>\n",
              "  </tbody>\n",
              "</table>\n",
              "</div>\n",
              "      <button class=\"colab-df-convert\" onclick=\"convertToInteractive('df-99f8cb99-5bec-4a83-b481-f859cf7e0f25')\"\n",
              "              title=\"Convert this dataframe to an interactive table.\"\n",
              "              style=\"display:none;\">\n",
              "        \n",
              "  <svg xmlns=\"http://www.w3.org/2000/svg\" height=\"24px\"viewBox=\"0 0 24 24\"\n",
              "       width=\"24px\">\n",
              "    <path d=\"M0 0h24v24H0V0z\" fill=\"none\"/>\n",
              "    <path d=\"M18.56 5.44l.94 2.06.94-2.06 2.06-.94-2.06-.94-.94-2.06-.94 2.06-2.06.94zm-11 1L8.5 8.5l.94-2.06 2.06-.94-2.06-.94L8.5 2.5l-.94 2.06-2.06.94zm10 10l.94 2.06.94-2.06 2.06-.94-2.06-.94-.94-2.06-.94 2.06-2.06.94z\"/><path d=\"M17.41 7.96l-1.37-1.37c-.4-.4-.92-.59-1.43-.59-.52 0-1.04.2-1.43.59L10.3 9.45l-7.72 7.72c-.78.78-.78 2.05 0 2.83L4 21.41c.39.39.9.59 1.41.59.51 0 1.02-.2 1.41-.59l7.78-7.78 2.81-2.81c.8-.78.8-2.07 0-2.86zM5.41 20L4 18.59l7.72-7.72 1.47 1.35L5.41 20z\"/>\n",
              "  </svg>\n",
              "      </button>\n",
              "      \n",
              "  <style>\n",
              "    .colab-df-container {\n",
              "      display:flex;\n",
              "      flex-wrap:wrap;\n",
              "      gap: 12px;\n",
              "    }\n",
              "\n",
              "    .colab-df-convert {\n",
              "      background-color: #E8F0FE;\n",
              "      border: none;\n",
              "      border-radius: 50%;\n",
              "      cursor: pointer;\n",
              "      display: none;\n",
              "      fill: #1967D2;\n",
              "      height: 32px;\n",
              "      padding: 0 0 0 0;\n",
              "      width: 32px;\n",
              "    }\n",
              "\n",
              "    .colab-df-convert:hover {\n",
              "      background-color: #E2EBFA;\n",
              "      box-shadow: 0px 1px 2px rgba(60, 64, 67, 0.3), 0px 1px 3px 1px rgba(60, 64, 67, 0.15);\n",
              "      fill: #174EA6;\n",
              "    }\n",
              "\n",
              "    [theme=dark] .colab-df-convert {\n",
              "      background-color: #3B4455;\n",
              "      fill: #D2E3FC;\n",
              "    }\n",
              "\n",
              "    [theme=dark] .colab-df-convert:hover {\n",
              "      background-color: #434B5C;\n",
              "      box-shadow: 0px 1px 3px 1px rgba(0, 0, 0, 0.15);\n",
              "      filter: drop-shadow(0px 1px 2px rgba(0, 0, 0, 0.3));\n",
              "      fill: #FFFFFF;\n",
              "    }\n",
              "  </style>\n",
              "\n",
              "      <script>\n",
              "        const buttonEl =\n",
              "          document.querySelector('#df-99f8cb99-5bec-4a83-b481-f859cf7e0f25 button.colab-df-convert');\n",
              "        buttonEl.style.display =\n",
              "          google.colab.kernel.accessAllowed ? 'block' : 'none';\n",
              "\n",
              "        async function convertToInteractive(key) {\n",
              "          const element = document.querySelector('#df-99f8cb99-5bec-4a83-b481-f859cf7e0f25');\n",
              "          const dataTable =\n",
              "            await google.colab.kernel.invokeFunction('convertToInteractive',\n",
              "                                                     [key], {});\n",
              "          if (!dataTable) return;\n",
              "\n",
              "          const docLinkHtml = 'Like what you see? Visit the ' +\n",
              "            '<a target=\"_blank\" href=https://colab.research.google.com/notebooks/data_table.ipynb>data table notebook</a>'\n",
              "            + ' to learn more about interactive tables.';\n",
              "          element.innerHTML = '';\n",
              "          dataTable['output_type'] = 'display_data';\n",
              "          await google.colab.output.renderOutput(dataTable, element);\n",
              "          const docLink = document.createElement('div');\n",
              "          docLink.innerHTML = docLinkHtml;\n",
              "          element.appendChild(docLink);\n",
              "        }\n",
              "      </script>\n",
              "    </div>\n",
              "  </div>\n",
              "  "
            ]
          },
          "metadata": {},
          "execution_count": 65
        }
      ]
    },
    {
      "cell_type": "markdown",
      "source": [
        "**Correlação entre Sexo e Depressão**"
      ],
      "metadata": {
        "id": "-DcnZHTCHpIW"
      }
    },
    {
      "cell_type": "code",
      "source": [
        "data[['sex', 'depressed']].corr()"
      ],
      "metadata": {
        "colab": {
          "base_uri": "https://localhost:8080/",
          "height": 112
        },
        "id": "-RBdZPlOHcKv",
        "outputId": "715d9005-64be-445a-efe2-23b58bcf8022"
      },
      "execution_count": null,
      "outputs": [
        {
          "output_type": "execute_result",
          "data": {
            "text/plain": [
              "                sex  depressed\n",
              "sex        1.000000  -0.003519\n",
              "depressed -0.003519   1.000000"
            ],
            "text/html": [
              "\n",
              "  <div id=\"df-3eb47fc4-8a07-440e-84fe-1ede684b4c76\">\n",
              "    <div class=\"colab-df-container\">\n",
              "      <div>\n",
              "<style scoped>\n",
              "    .dataframe tbody tr th:only-of-type {\n",
              "        vertical-align: middle;\n",
              "    }\n",
              "\n",
              "    .dataframe tbody tr th {\n",
              "        vertical-align: top;\n",
              "    }\n",
              "\n",
              "    .dataframe thead th {\n",
              "        text-align: right;\n",
              "    }\n",
              "</style>\n",
              "<table border=\"1\" class=\"dataframe\">\n",
              "  <thead>\n",
              "    <tr style=\"text-align: right;\">\n",
              "      <th></th>\n",
              "      <th>sex</th>\n",
              "      <th>depressed</th>\n",
              "    </tr>\n",
              "  </thead>\n",
              "  <tbody>\n",
              "    <tr>\n",
              "      <th>sex</th>\n",
              "      <td>1.000000</td>\n",
              "      <td>-0.003519</td>\n",
              "    </tr>\n",
              "    <tr>\n",
              "      <th>depressed</th>\n",
              "      <td>-0.003519</td>\n",
              "      <td>1.000000</td>\n",
              "    </tr>\n",
              "  </tbody>\n",
              "</table>\n",
              "</div>\n",
              "      <button class=\"colab-df-convert\" onclick=\"convertToInteractive('df-3eb47fc4-8a07-440e-84fe-1ede684b4c76')\"\n",
              "              title=\"Convert this dataframe to an interactive table.\"\n",
              "              style=\"display:none;\">\n",
              "        \n",
              "  <svg xmlns=\"http://www.w3.org/2000/svg\" height=\"24px\"viewBox=\"0 0 24 24\"\n",
              "       width=\"24px\">\n",
              "    <path d=\"M0 0h24v24H0V0z\" fill=\"none\"/>\n",
              "    <path d=\"M18.56 5.44l.94 2.06.94-2.06 2.06-.94-2.06-.94-.94-2.06-.94 2.06-2.06.94zm-11 1L8.5 8.5l.94-2.06 2.06-.94-2.06-.94L8.5 2.5l-.94 2.06-2.06.94zm10 10l.94 2.06.94-2.06 2.06-.94-2.06-.94-.94-2.06-.94 2.06-2.06.94z\"/><path d=\"M17.41 7.96l-1.37-1.37c-.4-.4-.92-.59-1.43-.59-.52 0-1.04.2-1.43.59L10.3 9.45l-7.72 7.72c-.78.78-.78 2.05 0 2.83L4 21.41c.39.39.9.59 1.41.59.51 0 1.02-.2 1.41-.59l7.78-7.78 2.81-2.81c.8-.78.8-2.07 0-2.86zM5.41 20L4 18.59l7.72-7.72 1.47 1.35L5.41 20z\"/>\n",
              "  </svg>\n",
              "      </button>\n",
              "      \n",
              "  <style>\n",
              "    .colab-df-container {\n",
              "      display:flex;\n",
              "      flex-wrap:wrap;\n",
              "      gap: 12px;\n",
              "    }\n",
              "\n",
              "    .colab-df-convert {\n",
              "      background-color: #E8F0FE;\n",
              "      border: none;\n",
              "      border-radius: 50%;\n",
              "      cursor: pointer;\n",
              "      display: none;\n",
              "      fill: #1967D2;\n",
              "      height: 32px;\n",
              "      padding: 0 0 0 0;\n",
              "      width: 32px;\n",
              "    }\n",
              "\n",
              "    .colab-df-convert:hover {\n",
              "      background-color: #E2EBFA;\n",
              "      box-shadow: 0px 1px 2px rgba(60, 64, 67, 0.3), 0px 1px 3px 1px rgba(60, 64, 67, 0.15);\n",
              "      fill: #174EA6;\n",
              "    }\n",
              "\n",
              "    [theme=dark] .colab-df-convert {\n",
              "      background-color: #3B4455;\n",
              "      fill: #D2E3FC;\n",
              "    }\n",
              "\n",
              "    [theme=dark] .colab-df-convert:hover {\n",
              "      background-color: #434B5C;\n",
              "      box-shadow: 0px 1px 3px 1px rgba(0, 0, 0, 0.15);\n",
              "      filter: drop-shadow(0px 1px 2px rgba(0, 0, 0, 0.3));\n",
              "      fill: #FFFFFF;\n",
              "    }\n",
              "  </style>\n",
              "\n",
              "      <script>\n",
              "        const buttonEl =\n",
              "          document.querySelector('#df-3eb47fc4-8a07-440e-84fe-1ede684b4c76 button.colab-df-convert');\n",
              "        buttonEl.style.display =\n",
              "          google.colab.kernel.accessAllowed ? 'block' : 'none';\n",
              "\n",
              "        async function convertToInteractive(key) {\n",
              "          const element = document.querySelector('#df-3eb47fc4-8a07-440e-84fe-1ede684b4c76');\n",
              "          const dataTable =\n",
              "            await google.colab.kernel.invokeFunction('convertToInteractive',\n",
              "                                                     [key], {});\n",
              "          if (!dataTable) return;\n",
              "\n",
              "          const docLinkHtml = 'Like what you see? Visit the ' +\n",
              "            '<a target=\"_blank\" href=https://colab.research.google.com/notebooks/data_table.ipynb>data table notebook</a>'\n",
              "            + ' to learn more about interactive tables.';\n",
              "          element.innerHTML = '';\n",
              "          dataTable['output_type'] = 'display_data';\n",
              "          await google.colab.output.renderOutput(dataTable, element);\n",
              "          const docLink = document.createElement('div');\n",
              "          docLink.innerHTML = docLinkHtml;\n",
              "          element.appendChild(docLink);\n",
              "        }\n",
              "      </script>\n",
              "    </div>\n",
              "  </div>\n",
              "  "
            ]
          },
          "metadata": {},
          "execution_count": 66
        }
      ]
    },
    {
      "cell_type": "markdown",
      "source": [
        "****Correlação entre depressão e o numero de filhos****"
      ],
      "metadata": {
        "id": "Zmcdi9p1HnDO"
      }
    },
    {
      "cell_type": "code",
      "source": [
        "data[['depressed', 'Number_children']].corr()"
      ],
      "metadata": {
        "colab": {
          "base_uri": "https://localhost:8080/",
          "height": 112
        },
        "id": "35Z_QrXTHiGP",
        "outputId": "e0a89772-93e3-42d9-c2e8-21f1a21e554e"
      },
      "execution_count": null,
      "outputs": [
        {
          "output_type": "execute_result",
          "data": {
            "text/plain": [
              "                 depressed  Number_children\n",
              "depressed         1.000000         0.003823\n",
              "Number_children   0.003823         1.000000"
            ],
            "text/html": [
              "\n",
              "  <div id=\"df-6666ffb1-cd33-40bf-8a35-3c14554ad578\">\n",
              "    <div class=\"colab-df-container\">\n",
              "      <div>\n",
              "<style scoped>\n",
              "    .dataframe tbody tr th:only-of-type {\n",
              "        vertical-align: middle;\n",
              "    }\n",
              "\n",
              "    .dataframe tbody tr th {\n",
              "        vertical-align: top;\n",
              "    }\n",
              "\n",
              "    .dataframe thead th {\n",
              "        text-align: right;\n",
              "    }\n",
              "</style>\n",
              "<table border=\"1\" class=\"dataframe\">\n",
              "  <thead>\n",
              "    <tr style=\"text-align: right;\">\n",
              "      <th></th>\n",
              "      <th>depressed</th>\n",
              "      <th>Number_children</th>\n",
              "    </tr>\n",
              "  </thead>\n",
              "  <tbody>\n",
              "    <tr>\n",
              "      <th>depressed</th>\n",
              "      <td>1.000000</td>\n",
              "      <td>0.003823</td>\n",
              "    </tr>\n",
              "    <tr>\n",
              "      <th>Number_children</th>\n",
              "      <td>0.003823</td>\n",
              "      <td>1.000000</td>\n",
              "    </tr>\n",
              "  </tbody>\n",
              "</table>\n",
              "</div>\n",
              "      <button class=\"colab-df-convert\" onclick=\"convertToInteractive('df-6666ffb1-cd33-40bf-8a35-3c14554ad578')\"\n",
              "              title=\"Convert this dataframe to an interactive table.\"\n",
              "              style=\"display:none;\">\n",
              "        \n",
              "  <svg xmlns=\"http://www.w3.org/2000/svg\" height=\"24px\"viewBox=\"0 0 24 24\"\n",
              "       width=\"24px\">\n",
              "    <path d=\"M0 0h24v24H0V0z\" fill=\"none\"/>\n",
              "    <path d=\"M18.56 5.44l.94 2.06.94-2.06 2.06-.94-2.06-.94-.94-2.06-.94 2.06-2.06.94zm-11 1L8.5 8.5l.94-2.06 2.06-.94-2.06-.94L8.5 2.5l-.94 2.06-2.06.94zm10 10l.94 2.06.94-2.06 2.06-.94-2.06-.94-.94-2.06-.94 2.06-2.06.94z\"/><path d=\"M17.41 7.96l-1.37-1.37c-.4-.4-.92-.59-1.43-.59-.52 0-1.04.2-1.43.59L10.3 9.45l-7.72 7.72c-.78.78-.78 2.05 0 2.83L4 21.41c.39.39.9.59 1.41.59.51 0 1.02-.2 1.41-.59l7.78-7.78 2.81-2.81c.8-.78.8-2.07 0-2.86zM5.41 20L4 18.59l7.72-7.72 1.47 1.35L5.41 20z\"/>\n",
              "  </svg>\n",
              "      </button>\n",
              "      \n",
              "  <style>\n",
              "    .colab-df-container {\n",
              "      display:flex;\n",
              "      flex-wrap:wrap;\n",
              "      gap: 12px;\n",
              "    }\n",
              "\n",
              "    .colab-df-convert {\n",
              "      background-color: #E8F0FE;\n",
              "      border: none;\n",
              "      border-radius: 50%;\n",
              "      cursor: pointer;\n",
              "      display: none;\n",
              "      fill: #1967D2;\n",
              "      height: 32px;\n",
              "      padding: 0 0 0 0;\n",
              "      width: 32px;\n",
              "    }\n",
              "\n",
              "    .colab-df-convert:hover {\n",
              "      background-color: #E2EBFA;\n",
              "      box-shadow: 0px 1px 2px rgba(60, 64, 67, 0.3), 0px 1px 3px 1px rgba(60, 64, 67, 0.15);\n",
              "      fill: #174EA6;\n",
              "    }\n",
              "\n",
              "    [theme=dark] .colab-df-convert {\n",
              "      background-color: #3B4455;\n",
              "      fill: #D2E3FC;\n",
              "    }\n",
              "\n",
              "    [theme=dark] .colab-df-convert:hover {\n",
              "      background-color: #434B5C;\n",
              "      box-shadow: 0px 1px 3px 1px rgba(0, 0, 0, 0.15);\n",
              "      filter: drop-shadow(0px 1px 2px rgba(0, 0, 0, 0.3));\n",
              "      fill: #FFFFFF;\n",
              "    }\n",
              "  </style>\n",
              "\n",
              "      <script>\n",
              "        const buttonEl =\n",
              "          document.querySelector('#df-6666ffb1-cd33-40bf-8a35-3c14554ad578 button.colab-df-convert');\n",
              "        buttonEl.style.display =\n",
              "          google.colab.kernel.accessAllowed ? 'block' : 'none';\n",
              "\n",
              "        async function convertToInteractive(key) {\n",
              "          const element = document.querySelector('#df-6666ffb1-cd33-40bf-8a35-3c14554ad578');\n",
              "          const dataTable =\n",
              "            await google.colab.kernel.invokeFunction('convertToInteractive',\n",
              "                                                     [key], {});\n",
              "          if (!dataTable) return;\n",
              "\n",
              "          const docLinkHtml = 'Like what you see? Visit the ' +\n",
              "            '<a target=\"_blank\" href=https://colab.research.google.com/notebooks/data_table.ipynb>data table notebook</a>'\n",
              "            + ' to learn more about interactive tables.';\n",
              "          element.innerHTML = '';\n",
              "          dataTable['output_type'] = 'display_data';\n",
              "          await google.colab.output.renderOutput(dataTable, element);\n",
              "          const docLink = document.createElement('div');\n",
              "          docLink.innerHTML = docLinkHtml;\n",
              "          element.appendChild(docLink);\n",
              "        }\n",
              "      </script>\n",
              "    </div>\n",
              "  </div>\n",
              "  "
            ]
          },
          "metadata": {},
          "execution_count": 67
        }
      ]
    }
  ]
}